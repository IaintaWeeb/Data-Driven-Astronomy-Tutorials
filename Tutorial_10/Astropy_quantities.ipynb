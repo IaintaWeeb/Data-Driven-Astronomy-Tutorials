{
 "cells": [
  {
   "cell_type": "markdown",
   "metadata": {},
   "source": [
    "# Astropy Quantities\n",
    "\n",
    "In astronomy (and most sciences) we typically have to deal with quantities which have some dimension (i.e. unit). The quantity is completely represented by not only a number but also a unit to go along with it. When we consider the same quantity in a different unit system, the quantity itself will not change, although the number used to represent it does change. While solving involved problems with several dimensional quantities, it may become cumbersome to keep track of the quantity if our program stores it as a single number with implied units. Astropy units library is a useful way to keep track of a dimensional quantity "
   ]
  },
  {
   "cell_type": "code",
   "execution_count": 54,
   "metadata": {},
   "outputs": [],
   "source": [
    "import numpy as np\n",
    "from astropy import units as u \n",
    "#The first step as usual is to import the required packages"
   ]
  },
  {
   "cell_type": "markdown",
   "metadata": {},
   "source": [
    "We can initialise a dimensional quantity as follows"
   ]
  },
  {
   "cell_type": "code",
   "execution_count": 55,
   "metadata": {},
   "outputs": [],
   "source": [
    "q = 42.0 * u.m \n",
    "lengths = [1,2,3]*u.m"
   ]
  },
  {
   "cell_type": "markdown",
   "metadata": {},
   "source": [
    "We can access the numerical and unit part of q as follows"
   ]
  },
  {
   "cell_type": "code",
   "execution_count": 56,
   "metadata": {},
   "outputs": [
    {
     "name": "stdout",
     "output_type": "stream",
     "text": [
      "42.0 m\n",
      "[1. 2. 3.] m\n",
      "1.0 m\n"
     ]
    }
   ],
   "source": [
    "print(q.value,q.unit) #Ofcourse, we can use q.value with any other command also\n",
    "\n",
    "print(lengths.value,q.unit)\n",
    "print(lengths[0].value , lengths[0].unit)\n"
   ]
  },
  {
   "cell_type": "markdown",
   "metadata": {},
   "source": [
    "We can multiply or divide quantities having different units but not add/subtract. Ofcourse, quantities with the same unit can be added as usual. Trying to add incompatible quantities will give unit conversion error"
   ]
  },
  {
   "cell_type": "code",
   "execution_count": 57,
   "metadata": {},
   "outputs": [],
   "source": [
    "distance2 =45 * u.m\n",
    "distance1 =5*u.cm\n",
    "time = 1 * u.s"
   ]
  },
  {
   "cell_type": "code",
   "execution_count": 58,
   "metadata": {},
   "outputs": [
    {
     "name": "stdout",
     "output_type": "stream",
     "text": [
      "44.95 m / s\n"
     ]
    }
   ],
   "source": [
    "speed = (distance2 - distance1)/time\n",
    "print(speed)"
   ]
  },
  {
   "cell_type": "markdown",
   "metadata": {},
   "source": [
    "We can also use the units library to interconvert between different unit systems using the to() method. Note that after calling this method, the value stored in quantity.value and quantity.unit don't change. Another method for converting to cgs/SI is also shown below."
   ]
  },
  {
   "cell_type": "code",
   "execution_count": 59,
   "metadata": {},
   "outputs": [
    {
     "name": "stdout",
     "output_type": "stream",
     "text": [
      "161.82 km / h\n",
      "44.95\n",
      "m / s\n",
      "10000000.0 erg\n",
      "0.1 m\n"
     ]
    }
   ],
   "source": [
    "print(speed.to(u.km/u.hour))\n",
    "print(speed.value)\n",
    "print(speed.unit)\n",
    "print((1*u.Joule).cgs)\n",
    "print((10*u.cm).si)"
   ]
  },
  {
   "cell_type": "markdown",
   "metadata": {},
   "source": [
    "We can also define new suitable units as required."
   ]
  },
  {
   "cell_type": "code",
   "execution_count": 60,
   "metadata": {},
   "outputs": [
    {
     "name": "stdout",
     "output_type": "stream",
     "text": [
      "100.5502863278454 mi / h\n"
     ]
    }
   ],
   "source": [
    "mph = u.imperial.mile/u.hour #astropy.units.imperial is the module for fps units\n",
    "print(speed.to(mph))"
   ]
  },
  {
   "cell_type": "markdown",
   "metadata": {},
   "source": [
    "A special type of unit in the astropy.units package is the dimensionless quantity. This can either be initialised directly or come out from units cancelling out."
   ]
  },
  {
   "cell_type": "code",
   "execution_count": 61,
   "metadata": {
    "scrolled": true
   },
   "outputs": [
    {
     "name": "stdout",
     "output_type": "stream",
     "text": [
      "1.5 \n",
      "0.5 \n",
      "0.5 km / m\n",
      "True\n",
      "False\n"
     ]
    }
   ],
   "source": [
    "refractive_index = 1.5 *u.dimensionless_unscaled\n",
    "print(refractive_index.value,refractive_index.unit) #No unit is printed, as the quantity is dimensionless\n",
    "\n",
    "distance_ratio1 = (1*u.m)/(2*u.m)\n",
    "print(distance_ratio1.value,distance_ratio1.unit)#This is a true unscaled dimensionless quantity\n",
    "\n",
    "distance_ratio2 = (1*u.km)/(2*u.m)\n",
    "print(distance_ratio2.value,distance_ratio2.unit)#This is also dimensionless, but value is scaled\n",
    "\n",
    "print(distance_ratio1.unit == refractive_index.unit)#both are dimensionless unscaled\n",
    "print(distance_ratio1.unit == distance_ratio2.unit)#both are dimensionless, but one is scaled, the other is not"
   ]
  },
  {
   "cell_type": "markdown",
   "metadata": {},
   "source": [
    "Ofcourse, astropy being *__astro__*py, does support usual astronomical units like parsecs, solar masses, AU etc"
   ]
  },
  {
   "cell_type": "code",
   "execution_count": 62,
   "metadata": {},
   "outputs": [
    {
     "name": "stdout",
     "output_type": "stream",
     "text": [
      "1.0 pc / AU\n",
      "206264.80624709633\n",
      "1409.7798243075256 kg / m3\n"
     ]
    }
   ],
   "source": [
    "r = 1*u.AU\n",
    "d = 1*u.parsec\n",
    "print(d/r)\n",
    "print(float(d/r)) #Notice how the float method is used to convert dimensionless scaled quatities to numbers\n",
    "                  #The float method will not work with quantities having some dimension\n",
    "\n",
    "AvgDensity_of_sun = 1*u.Msun/(4*np.pi/3*(1*u.Rsun)**3)\n",
    "print(AvgDensity_of_sun.to(u.kg/u.m**3)) #Side note: note how this quite close to density of water"
   ]
  },
  {
   "cell_type": "markdown",
   "metadata": {},
   "source": [
    "The last remark to make about astropy is that it can also do 'implicit' conversions, like converting wavelength of light to frequency (in vacuum), by specifying the equivalencies parameter"
   ]
  },
  {
   "cell_type": "code",
   "execution_count": 63,
   "metadata": {},
   "outputs": [
    {
     "name": "stdout",
     "output_type": "stream",
     "text": [
      "299792457999999.94 Hz\n"
     ]
    }
   ],
   "source": [
    "print((1000 * u.nm).to(u.Hz, equivalencies=u.spectral()))  "
   ]
  },
  {
   "cell_type": "markdown",
   "metadata": {},
   "source": [
    "# Filters in Astronomy\n",
    "Astronomers often use various filters for taking images. These filters selectively allow light of certain wavelengths to pass through them while rejecting others. Several filter systems are in use, and the filters used for a certain observation are usually specified along with the observation data. Here, we will take up a specific filter system, SDSS (Sloan Digital Sky Survey). In general the analysis of any other filter system will also be similar. In this exercise, we will model a star as a perfect blackbody and try to find the intensity detected in each filter.\n",
    "\n",
    "Recall that Planck's formula for the black body spectrum is given by:\n",
    "$$B(\\lambda,T) = \\frac{2\\pi hc^2}{\\lambda^5}\\left(\\frac{1}{exp\\left(\\frac{hc}{\\lambda k_BT}\\right)-1}\\right)$$\n",
    "$h$ is the planck's constant, $c$ is the speed of light and $k_B$ is Boltzmann constant. $\\lambda$ and $T$ represent the wavelength at which $B$ is measured and temperature of blackbody, respectively. \n",
    "\n",
    "$B(\\lambda,T)d\\lambda$ gives the  energy emitted per unit time per unit area of blackbody in the form of light having wavelengths within a wavelength interval of (small) width $d\\lambda$ centred at said $\\lambda$. We will first write a function that returns B with its proper unit (which is $Wm^{-3}$)"
   ]
  },
  {
   "cell_type": "code",
   "execution_count": 64,
   "metadata": {},
   "outputs": [],
   "source": [
    "import numpy as np\n",
    "import matplotlib.pyplot as plt\n",
    "from astropy import constants as const #The constants package is a prebuilt package from astropy containing\n",
    "                                       #all usual physical constants. They are prebuilt with their units"
   ]
  },
  {
   "cell_type": "code",
   "execution_count": 65,
   "metadata": {
    "scrolled": true
   },
   "outputs": [
    {
     "name": "stdout",
     "output_type": "stream",
     "text": [
      "  Name   = Planck constant\n",
      "  Value  = 6.62607015e-34\n",
      "  Uncertainty  = 0.0\n",
      "  Unit  = J s\n",
      "  Reference = CODATA 2018\n"
     ]
    }
   ],
   "source": [
    "h = const.h\n",
    "print(h)"
   ]
  },
  {
   "cell_type": "markdown",
   "metadata": {},
   "source": [
    "The complete list of constants available in astropy is available at https://docs.astropy.org/en/stable/constants/"
   ]
  },
  {
   "cell_type": "code",
   "execution_count": 66,
   "metadata": {
    "scrolled": true
   },
   "outputs": [],
   "source": [
    "c = const.c\n",
    "kB = const.k_B"
   ]
  },
  {
   "cell_type": "code",
   "execution_count": 67,
   "metadata": {},
   "outputs": [],
   "source": [
    "def B(wl,T): #lambda is a reserved keyword in python, so wavelength is assigned variable wl\n",
    "    exponential = 1/(np.exp(h*c/(wl*kB*T))-1)\n",
    "    prefactor = 2*np.pi*h*c*c/wl**5\n",
    "    return prefactor*exponential"
   ]
  },
  {
   "cell_type": "code",
   "execution_count": 68,
   "metadata": {
    "scrolled": false
   },
   "outputs": [
    {
     "data": {
      "image/png": "[encoded data removed]",
      "text/plain": [
       "<Figure size 640x480 with 1 Axes>"
      ]
     },
     "metadata": {},
     "output_type": "display_data"
    }
   ],
   "source": [
    "plt.style.use('default')\n",
    "wl0 = np.linspace(100,10000,1000000)*u.nm\n",
    "T0 = 5000 *u.K\n",
    "plt.xscale('log')\n",
    "plt.xlabel('wavelength in nm')\n",
    "plt.ylabel('$B_\\lambda$')\n",
    "plt.plot(wl0.value,B(wl0,T0).value)\n",
    "plt.show()"
   ]
  },
  {
   "cell_type": "markdown",
   "metadata": {},
   "source": [
    "The next step is to find out the filter response as a function of wavelength. For most standard filters, these are readily available from appropriate sources, as measured experimentally by some astronomers. For our purpose, we will be using the SDSS filters, and in particular ,the data from Jim Gunn,2001 (available from the SDSS website as a fits file, has been already included in the folder with this notebook)"
   ]
  },
  {
   "cell_type": "code",
   "execution_count": 69,
   "metadata": {},
   "outputs": [],
   "source": [
    "from astropy.io import fits"
   ]
  },
  {
   "cell_type": "code",
   "execution_count": 70,
   "metadata": {},
   "outputs": [
    {
     "name": "stdout",
     "output_type": "stream",
     "text": [
      "Filename: filter_curves.fits\n",
      "No.    Name      Ver    Type      Cards   Dimensions   Format\n",
      "  0  PRIMARY       1 PrimaryHDU      63   ()      \n",
      "  1  U             1 BinTableHDU     20   47R x 5C   [E, E, E, E, E]   \n",
      "  2  G             1 BinTableHDU     20   89R x 5C   [E, E, E, E, E]   \n",
      "  3  R             1 BinTableHDU     20   75R x 5C   [E, E, E, E, E]   \n",
      "  4  I             1 BinTableHDU     20   89R x 5C   [E, E, E, E, E]   \n",
      "  5  Z             1 BinTableHDU     20   141R x 5C   [E, E, E, E, E]   \n"
     ]
    }
   ],
   "source": [
    "SDSS_filter = fits.open('filter_curves.fits')\n",
    "SDSS_filter.info()"
   ]
  },
  {
   "cell_type": "markdown",
   "metadata": {},
   "source": [
    "As you can see, the primary HDU is empty, since there is no image and only filled HDUs are the binary table HDUs corresponding to the five filters U/G/R/I/Z (ultraviolet/ green/ red/ infrared/ longer than infrared). We can see that each HDU contains 5 columns, and we can find out what they represent by looking at the headers"
   ]
  },
  {
   "cell_type": "code",
   "execution_count": 71,
   "metadata": {},
   "outputs": [
    {
     "data": {
      "text/plain": [
       "XTENSION= 'BINTABLE'           / binary table extension                         \n",
       "BITPIX  =                    8 / array data type                                \n",
       "NAXIS   =                    2 / number of array dimensions                     \n",
       "NAXIS1  =                   20 / length of dimension 1                          \n",
       "NAXIS2  =                   47 / length of dimension 2                          \n",
       "PCOUNT  =                    0 / number of group parameters                     \n",
       "GCOUNT  =                    1 / number of groups                               \n",
       "TFIELDS =                    5 / number of table fields                         \n",
       "TTYPE1  = 'wavelength'                                                          \n",
       "TFORM1  = 'E       '                                                            \n",
       "TUNIT1  = 'angstrom'                                                            \n",
       "TTYPE2  = 'respt   '                                                            \n",
       "TFORM2  = 'E       '                                                            \n",
       "TTYPE3  = 'resbig  '                                                            \n",
       "TFORM3  = 'E       '                                                            \n",
       "TTYPE4  = 'resnoa  '                                                            \n",
       "TFORM4  = 'E       '                                                            \n",
       "TTYPE5  = 'xatm    '                                                            \n",
       "TFORM5  = 'E       '                                                            \n",
       "EXTNAME = 'U       '           / extension name                                 "
      ]
     },
     "execution_count": 71,
     "metadata": {},
     "output_type": "execute_result"
    }
   ],
   "source": [
    "SDSS_filter[1].header"
   ]
  },
  {
   "cell_type": "markdown",
   "metadata": {},
   "source": [
    "As we can see, the first column is the wavelength in Angstroms and the further columns give the transparency of the filter at said wavelength, under various conditions. 'respt' is the quantum efficiency after going through 1.3 airmasses (i.e atmospheric scattering) while 'resbig' is the quantum efficiency including some infrared scattering effects, mainly applicable for extended objects (>80 pixels).'resnoa' is quantum efficiency with no atmosphere and last column represents assumed atmospheric transparency as a function of atmosphere. For our purposes, we will be using mainly the 'respt' column. "
   ]
  },
  {
   "cell_type": "code",
   "execution_count": 72,
   "metadata": {},
   "outputs": [
    {
     "data": {
      "text/plain": [
       "FITS_rec([(2980., 0.000e+00, 0.000e+00, 0.    , 0.0727),\n",
       "          (3005., 1.000e-04, 1.000e-04, 0.0014, 0.0992),\n",
       "          (3030., 5.000e-04, 5.000e-04, 0.0071, 0.1308),\n",
       "          (3055., 1.300e-03, 1.300e-03, 0.0127, 0.1673),\n",
       "          (3080., 2.600e-03, 2.600e-03, 0.0198, 0.2075),\n",
       "          (3105., 5.200e-03, 5.200e-03, 0.0314, 0.247 ),\n",
       "          (3130., 9.300e-03, 9.300e-03, 0.0464, 0.2862),\n",
       "          (3155., 1.610e-02, 1.610e-02, 0.0629, 0.3444),\n",
       "          (3180., 2.400e-02, 2.400e-02, 0.0794, 0.392 ),\n",
       "          (3205., 3.230e-02, 3.230e-02, 0.0949, 0.43  ),\n",
       "          (3230., 4.050e-02, 4.050e-02, 0.1093, 0.4585),\n",
       "          (3255., 4.850e-02, 4.850e-02, 0.1229, 0.4817),\n",
       "          (3280., 5.610e-02, 5.610e-02, 0.1352, 0.5007),\n",
       "          (3305., 6.340e-02, 6.340e-02, 0.1458, 0.5189),\n",
       "          (3330., 7.000e-02, 7.000e-02, 0.1545, 0.5351),\n",
       "          (3355., 7.560e-02, 7.560e-02, 0.1617, 0.5486),\n",
       "          (3380., 8.030e-02, 8.030e-02, 0.1679, 0.5581),\n",
       "          (3405., 8.480e-02, 8.480e-02, 0.1737, 0.5669),\n",
       "          (3430., 8.830e-02, 8.830e-02, 0.1786, 0.5727),\n",
       "          (3455., 9.170e-02, 9.170e-02, 0.1819, 0.5812),\n",
       "          (3480., 9.590e-02, 9.590e-02, 0.1842, 0.5959),\n",
       "          (3505., 1.001e-01, 1.001e-01, 0.186 , 0.6112),\n",
       "          (3530., 1.029e-01, 1.029e-01, 0.187 , 0.6221),\n",
       "          (3555., 1.044e-01, 1.044e-01, 0.1868, 0.6294),\n",
       "          (3580., 1.053e-01, 1.053e-01, 0.1862, 0.635 ),\n",
       "          (3605., 1.063e-01, 1.063e-01, 0.1858, 0.6406),\n",
       "          (3630., 1.075e-01, 1.075e-01, 0.1853, 0.6476),\n",
       "          (3655., 1.085e-01, 1.085e-01, 0.1841, 0.6553),\n",
       "          (3680., 1.084e-01, 1.084e-01, 0.1812, 0.6631),\n",
       "          (3705., 1.064e-01, 1.064e-01, 0.1754, 0.6702),\n",
       "          (3730., 1.024e-01, 1.024e-01, 0.1669, 0.6763),\n",
       "          (3755., 9.660e-02, 9.660e-02, 0.1558, 0.6815),\n",
       "          (3780., 8.870e-02, 8.870e-02, 0.1419, 0.6863),\n",
       "          (3805., 7.870e-02, 7.870e-02, 0.1247, 0.6912),\n",
       "          (3830., 6.720e-02, 6.720e-02, 0.1054, 0.6965),\n",
       "          (3855., 5.490e-02, 5.490e-02, 0.0851, 0.7023),\n",
       "          (3880., 4.130e-02, 4.130e-02, 0.0634, 0.7088),\n",
       "          (3905., 2.680e-02, 2.680e-02, 0.0405, 0.7158),\n",
       "          (3930., 1.450e-02, 1.450e-02, 0.0216, 0.7235),\n",
       "          (3955., 7.500e-03, 7.500e-03, 0.011 , 0.7315),\n",
       "          (3980., 4.200e-03, 4.200e-03, 0.0062, 0.7393),\n",
       "          (4005., 2.200e-03, 2.200e-03, 0.0032, 0.7464),\n",
       "          (4030., 1.000e-03, 1.000e-03, 0.0015, 0.7526),\n",
       "          (4055., 6.000e-04, 6.000e-04, 0.0008, 0.7581),\n",
       "          (4080., 4.000e-04, 4.000e-04, 0.0006, 0.7631),\n",
       "          (4105., 2.000e-04, 2.000e-04, 0.0003, 0.768 ),\n",
       "          (4130., 0.000e+00, 0.000e+00, 0.    , 0.7727)],\n",
       "         dtype=(numpy.record, [('wavelength', '>f4'), ('respt', '>f4'), ('resbig', '>f4'), ('resnoa', '>f4'), ('xatm', '>f4')]))"
      ]
     },
     "execution_count": 72,
     "metadata": {},
     "output_type": "execute_result"
    }
   ],
   "source": [
    "U = SDSS_filter[1].data\n",
    "G = SDSS_filter[2].data\n",
    "R = SDSS_filter[3].data\n",
    "I = SDSS_filter[4].data\n",
    "Z = SDSS_filter[5].data\n",
    "U"
   ]
  },
  {
   "cell_type": "code",
   "execution_count": 73,
   "metadata": {
    "scrolled": false
   },
   "outputs": [
    {
     "data": {
      "image/png": "[encoded data removed]",
      "text/plain": [
       "<Figure size 640x480 with 1 Axes>"
      ]
     },
     "metadata": {},
     "output_type": "display_data"
    }
   ],
   "source": [
    "plt.plot(U['wavelength'],U['respt'],color='blue') \n",
    "plt.plot(G['wavelength'],G['respt'],color='green')\n",
    "plt.plot(R['wavelength'],R['respt'],color='red')\n",
    "plt.plot(I['wavelength'],I['respt'],color='black')\n",
    "plt.plot(Z['wavelength'],Z['respt'],color='magenta')\n",
    "plt.ylabel('quantum efficiency')\n",
    "plt.xlabel('wavelength in angstrom')\n",
    "plt.show()"
   ]
  },
  {
   "cell_type": "markdown",
   "metadata": {},
   "source": [
    "The intensity of light observed in a certain filter is simply the integral of the product of $B(\\lambda,T)$ and quantum efficiency profile of said filter, corrected for distance, integrated over all wavelengths. \n",
    "$$I_{net} = \\frac{r^2}{d^2}\\int_0^\\infty B(\\lambda,T) q(\\lambda) d\\lambda$$\n",
    "where $q(\\lambda)$ is the quantum efficiency, i.e fraction of photons that are let through where r is radius of the star, d is our distance from it and T is its temperature.\n",
    "\n",
    "We will now try to calculate the intensity of the sirius, as calculated in G filter, as an example"
   ]
  },
  {
   "cell_type": "code",
   "execution_count": 74,
   "metadata": {},
   "outputs": [],
   "source": [
    "wavelengths = G['wavelength']*u.AA #Angstroms\n",
    "qG = G['respt'] \n",
    "Tsirius = 9940 * u.K\n",
    "r_sirius = 1.711*u.Rsun\n",
    "d_sirius = 2.64 * u.pc "
   ]
  },
  {
   "cell_type": "markdown",
   "metadata": {},
   "source": [
    "We will estimate the integral by [trapezoidal rule](https://en.wikipedia.org/wiki/Trapezoidal_rule)"
   ]
  },
  {
   "cell_type": "code",
   "execution_count": 75,
   "metadata": {},
   "outputs": [
    {
     "name": "stdout",
     "output_type": "stream",
     "text": [
      "7.024221695949649e-09 W / m2\n"
     ]
    }
   ],
   "source": [
    "integral = 0*u.W/u.m**2\n",
    "i = 1\n",
    "while i < len(wavelengths):\n",
    "    integral += B((wavelengths[i-1]+wavelengths[i])/2 , Tsirius)*(qG[i-1]+qG[i])/2*(wavelengths[i]-wavelengths[i-1])\n",
    "    i = i + 1\n",
    "intensity = integral*(r_sirius/d_sirius)**2\n",
    "print(intensity.to(u.W/u.m**2))"
   ]
  },
  {
   "cell_type": "markdown",
   "metadata": {},
   "source": [
    "## Your assignment...\n",
    "...should you accept it, is as follows:\n",
    "\n",
    "Arcturus is one of the prominent stars from the Bootes constellation. An astronomer measures the intensity of Arcturus in the G and R filters of the SDSS system and obtains the values of intensity as in the below cell. Estimate the temperature of Arcturus to within $\\pm 50K$. You may assume that Arcturus behaves like a perfect blackbody. The information provided below is sufficient for solving this question and no additional information (such as radius of Arcturus) is required."
   ]
  },
  {
   "cell_type": "code",
   "execution_count": 83,
   "metadata": {},
   "outputs": [],
   "source": [
    "intensity_G = 1.3887e-09 * (u.W / u.m**2)\n",
    "intensity_R = 2.5553e-09 * (u.W / u.m**2)\n",
    "wl_g = G['wavelength']*u.AA #Angstroms\n",
    "qG = G['respt'] \n",
    "wl_r = R['wavelength']*u.AA #Angstroms\n",
    "qR = R['respt'] "
   ]
  },
  {
   "cell_type": "code",
   "execution_count": 84,
   "metadata": {},
   "outputs": [],
   "source": [
    "G_R_ratio=intensity_G/intensity_R"
   ]
  },
  {
   "cell_type": "code",
   "execution_count": 88,
   "metadata": {},
   "outputs": [],
   "source": [
    "def G_R_integral(T):\n",
    "    integral_G = 0*u.W/u.m**2\n",
    "    i = 1\n",
    "    while i < len(wl_g):\n",
    "        integral_G += B((wl_g[i-1]+wl_g[i])/2 ,T*u.K)*(qG[i-1]+qG[i])/2*(wl_g[i]-wl_g[i-1])\n",
    "        i = i + 1\n",
    "    integral_R = 0*u.W/u.m**2\n",
    "    j = 1\n",
    "    while j < len(wl_r):\n",
    "        integral_R += B((wl_r[j-1]+wl_r[j])/2 ,T*u.K)*(qR[j-1]+qR[j])/2*(wl_r[j]-wl_r[j-1])\n",
    "        j = j + 1\n",
    "    return integral_G/integral_R-G_R_ratio"
   ]
  },
  {
   "cell_type": "code",
   "execution_count": 80,
   "metadata": {
    "scrolled": false
   },
   "outputs": [
    {
     "data": {
      "text/plain": [
       "[<matplotlib.lines.Line2D at 0x1c7c25ae5c0>]"
      ]
     },
     "execution_count": 80,
     "metadata": {},
     "output_type": "execute_result"
    },
    {
     "data": {
      "image/png": "[encoded data removed]",
      "text/plain": [
       "<Figure size 640x480 with 1 Axes>"
      ]
     },
     "metadata": {},
     "output_type": "display_data"
    }
   ],
   "source": [
    "temps=np.arange(500,10000,100)*u.K\n",
    "data=[]\n",
    "for t in temps:\n",
    "    x=G_R_integral(t)\n",
    "    data.append(x)\n",
    "plt.plot(temps.value,data)\n"
   ]
  },
  {
   "cell_type": "code",
   "execution_count": 93,
   "metadata": {
    "scrolled": true
   },
   "outputs": [
    {
     "name": "stdout",
     "output_type": "stream",
     "text": [
      "4300.0 K\n"
     ]
    }
   ],
   "source": [
    "differnce=np.abs(data-G_R_ratio)\n",
    "T_req=temps[np.where(differnce==np.min(differnce))]\n",
    "print(T_req[0])"
   ]
  }
 ],
 "metadata": {
  "kernelspec": {
   "display_name": "Python 3 (ipykernel)",
   "language": "python",
   "name": "python3"
  },
  "language_info": {
   "codemirror_mode": {
    "name": "ipython",
    "version": 3
   },
   "file_extension": ".py",
   "mimetype": "text/x-python",
   "name": "python",
   "nbconvert_exporter": "python",
   "pygments_lexer": "ipython3",
   "version": "3.10.6"
  }
 },
 "nbformat": 4,
 "nbformat_minor": 2
}
