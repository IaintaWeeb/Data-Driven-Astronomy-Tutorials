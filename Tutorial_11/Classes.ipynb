{
 "cells": [
  {
   "cell_type": "markdown",
   "metadata": {
    "colab_type": "text",
    "id": "Vav1iRnoLT7G"
   },
   "source": [
    "# Classes in Python"
   ]
  },
  {
   "cell_type": "markdown",
   "metadata": {
    "colab_type": "text",
    "id": "4zW49tORiQxy"
   },
   "source": [
    "## Introduction"
   ]
  },
  {
   "cell_type": "markdown",
   "metadata": {
    "colab_type": "text",
    "id": "s5axDYU2LT7H"
   },
   "source": [
    "In this tutorial, we will be looking at how classes are implemented in Python. Classes are important constructs in many programming languages. They are what makes Python, C++ etc. \"Object Oriented Programming Languages\". What this term means is that the language allows us to group similar quantities together and use them like an entity of its own. They are a user-defined data structure which has its own data and functions. Let us take an example of modelling a star using classes. "
   ]
  },
  {
   "cell_type": "code",
   "execution_count": 1,
   "metadata": {},
   "outputs": [],
   "source": [
    "from astropy import units as u"
   ]
  },
  {
   "cell_type": "code",
   "execution_count": 2,
   "metadata": {
    "colab": {},
    "colab_type": "code",
    "id": "2eEY_difLT7J"
   },
   "outputs": [],
   "source": [
    "class star:                         # Use keyword \"class\" for class definition\n",
    "    Temperature = 3590*u.K              # Attributes of the class\n",
    "    Radius = 887*u.Rsun\n",
    "    distance = 700*u.lightyear\n",
    "    \n",
    "    def print_star(self):           # Method of the class\n",
    "        print(f'Temperature={self.Temperature}\\n Radius={self.Radius}\\n Distance={self.distance}')"
   ]
  },
  {
   "cell_type": "markdown",
   "metadata": {
    "colab_type": "text",
    "id": "aq3VkWRhLT7P"
   },
   "source": [
    "This code defines a class called <i>star</i> and gives it three data attributes that describe it(Temperature in Kelvin, radius in solar radius units and distance to it from Earth in light years). It also defines a function to print its temperature, radius and distance."
   ]
  },
  {
   "cell_type": "code",
   "execution_count": 9,
   "metadata": {
    "colab": {},
    "colab_type": "code",
    "id": "5_odQYjMLT7Q"
   },
   "outputs": [
    {
     "name": "stdout",
     "output_type": "stream",
     "text": [
      "Temperature=3590.0 K\n",
      " Radius=887.0 solRad\n",
      " Distance=700.0 lyr\n"
     ]
    }
   ],
   "source": [
    "Betelgeuse = star()           # Betelgeuse is now an \"object\" of this class\n",
    "Betelgeuse.print_star()"
   ]
  },
  {
   "cell_type": "markdown",
   "metadata": {
    "colab_type": "text",
    "id": "cFKP62UeLT7U"
   },
   "source": [
    "The function star() returns an **object** or an **instance** of this class. The attributes(Temperature_K, in this case) are accessed using the dot operator. The class definition is like a blueprint for the object which defines its attributes or parameters and its functions and we access these using the dot operator. The keyword `self` is used to access the attributes of the object which called that function and is a compulsory argument for all methods of the class while defining them(there are exceptions, but we don't need to worry about them here)."
   ]
  },
  {
   "cell_type": "code",
   "execution_count": 10,
   "metadata": {
    "colab": {},
    "colab_type": "code",
    "id": "uSKuwqtJLT7V"
   },
   "outputs": [
    {
     "name": "stdout",
     "output_type": "stream",
     "text": [
      "Temperature=11000.0 K\n",
      " Radius=78.9 solRad\n",
      " Distance=864.3 lyr\n",
      "Temperature=3590.0 K\n",
      " Radius=887.0 solRad\n",
      " Distance=700.0 lyr\n"
     ]
    }
   ],
   "source": [
    "Rigel = star()\n",
    "Rigel.Radius = 78.9*u.Rsun\n",
    "Rigel.Temperature = 11000*u.K\n",
    "Rigel.distance = 864.3*u.lightyear\n",
    "Rigel.print_star()\n",
    "Betelgeuse.print_star()"
   ]
  },
  {
   "cell_type": "markdown",
   "metadata": {
    "colab_type": "text",
    "id": "yC3XcLiWLT7X"
   },
   "source": [
    "It's a painful process to change the parameters of a particular star each time you declare it. This is where the `__init__()` function comes in(two underscores on each side)."
   ]
  },
  {
   "cell_type": "code",
   "execution_count": 11,
   "metadata": {
    "colab": {},
    "colab_type": "code",
    "id": "BY5TuunCLT7Y"
   },
   "outputs": [],
   "source": [
    "class star:\n",
    "    def __init__(self, temp,rad,dist):       \n",
    "        self.Temperature = temp*u.K\n",
    "        self.Radius = rad*u.Rsun\n",
    "        self.distance = dist*u.lightyear\n",
    "    \n",
    "    def print_star(self):\n",
    "        print(f'Temperature={self.Temperature}\\n Radius={self.Radius}\\n Distance={self.distance}')"
   ]
  },
  {
   "cell_type": "code",
   "execution_count": 12,
   "metadata": {
    "colab": {},
    "colab_type": "code",
    "id": "rJqbgcliLT7b"
   },
   "outputs": [
    {
     "name": "stdout",
     "output_type": "stream",
     "text": [
      "Temperature=22000.0 K\n",
      " Radius=5.7525 solRad\n",
      " Distance=250.0 lyr\n"
     ]
    }
   ],
   "source": [
    "Bellatrix = star(22000,5.7525,250)\n",
    "Bellatrix.print_star()"
   ]
  },
  {
   "cell_type": "markdown",
   "metadata": {
    "colab_type": "text",
    "id": "sJQ0z24ALT7d"
   },
   "source": [
    "The two underscores come from the fact that init is a common user-defined name for variables and to remove any conflict between keywords and user-defined names, the two underscores HAD to be introduced. `__init__()` contains a collection of statements that are to be executed when an object is created. Now, if you try to execute this earlier code cell..."
   ]
  },
  {
   "cell_type": "code",
   "execution_count": 13,
   "metadata": {
    "colab": {},
    "colab_type": "code",
    "id": "haQb6L5ELT7e"
   },
   "outputs": [
    {
     "ename": "TypeError",
     "evalue": "star.__init__() missing 3 required positional arguments: 'temp', 'rad', and 'dist'",
     "output_type": "error",
     "traceback": [
      "\u001b[1;31m---------------------------------------------------------------------------\u001b[0m",
      "\u001b[1;31mTypeError\u001b[0m                                 Traceback (most recent call last)",
      "Cell \u001b[1;32mIn [13], line 1\u001b[0m\n\u001b[1;32m----> 1\u001b[0m Betelgeuse \u001b[38;5;241m=\u001b[39m \u001b[43mstar\u001b[49m\u001b[43m(\u001b[49m\u001b[43m)\u001b[49m\n\u001b[0;32m      2\u001b[0m Betelgeuse\u001b[38;5;241m.\u001b[39mprint_star()\n",
      "\u001b[1;31mTypeError\u001b[0m: star.__init__() missing 3 required positional arguments: 'temp', 'rad', and 'dist'"
     ]
    }
   ],
   "source": [
    "Betelgeuse = star()\n",
    "Betelgeuse.print_star()"
   ]
  },
  {
   "cell_type": "markdown",
   "metadata": {
    "colab_type": "text",
    "id": "shSf7YNdLT7g"
   },
   "source": [
    "This will give an error because now the class star always calls `__init__()` while creating an object and it expects 3 more arguments! You will have to provide the arguments of `__init__()` with default values in its definition for this command to work. `__init__()` is not like a normal method of the class and CANNOT be accessed using the dot operator."
   ]
  },
  {
   "cell_type": "code",
   "execution_count": 14,
   "metadata": {
    "colab": {},
    "colab_type": "code",
    "id": "U2B3piRHLT7g"
   },
   "outputs": [
    {
     "ename": "TypeError",
     "evalue": "star.__init__() takes exactly one argument (the instance to initialize)",
     "output_type": "error",
     "traceback": [
      "\u001b[1;31m---------------------------------------------------------------------------\u001b[0m",
      "\u001b[1;31mTypeError\u001b[0m                                 Traceback (most recent call last)",
      "Cell \u001b[1;32mIn [14], line 1\u001b[0m\n\u001b[1;32m----> 1\u001b[0m \u001b[43mBetelgeuse\u001b[49m\u001b[38;5;241;43m.\u001b[39;49m\u001b[38;5;21;43m__init__\u001b[39;49m\u001b[43m(\u001b[49m\u001b[38;5;241;43m3590\u001b[39;49m\u001b[43m,\u001b[49m\u001b[38;5;241;43m887\u001b[39;49m\u001b[43m,\u001b[49m\u001b[38;5;241;43m700\u001b[39;49m\u001b[43m)\u001b[49m\n",
      "\u001b[1;31mTypeError\u001b[0m: star.__init__() takes exactly one argument (the instance to initialize)"
     ]
    }
   ],
   "source": [
    "Betelgeuse.__init__(3590,887,700)"
   ]
  },
  {
   "cell_type": "markdown",
   "metadata": {
    "colab_type": "text",
    "id": "6AAjQ8puLT7i"
   },
   "source": [
    "Do note the difference between variables defined inside the constructor and variables defined inside the class but outside the constructor. The latter are called <b>class attributes</b> and are a property of the class itself, while variables defined inside the constructor are called <b>instance attributes</b> and are a property of a particular object. Class attributes can be accessed using the class name. Do be careful while changing class attributes as that might affect class attributes of other objects too and might not give you the result that you want. In case of attributes that might get changed during a program run, it is advisable to use instance attributes instead of class attributes. For the rest of the tutorial, we will be using instance attributes only."
   ]
  },
  {
   "cell_type": "code",
   "execution_count": 17,
   "metadata": {
    "colab": {
     "base_uri": "https://localhost:8080/",
     "height": 34
    },
    "colab_type": "code",
    "id": "Xvhz4mbv0ba1",
    "outputId": "8e8519bc-f1f7-4156-b3c3-c5dbc18434cb"
   },
   "outputs": [
    {
     "name": "stdout",
     "output_type": "stream",
     "text": [
      "3590.0 K\n"
     ]
    }
   ],
   "source": [
    "class star:\n",
    "    Temperature=3590*u.K              # Class attribute\n",
    "    \n",
    "    def __init__(self,rad,dist):\n",
    "        self.Radius = rad*u.Rsun        # Instance attribute\n",
    "        self.distance = dist*u.lightyear\n",
    "    \n",
    "    def print_star(self):           # Method of the class\n",
    "        print(f'Temperature={self.Temperature}  \\n Radius={self.Radius} \\n Distance={self.distance}')\n",
    "\n",
    "print(star.Temperature)\n",
    "# Class attribute being accessed by the class name. Note that no object has been made for this class."
   ]
  },
  {
   "cell_type": "markdown",
   "metadata": {
    "colab_type": "text",
    "id": "zNBgrbhcLT7k"
   },
   "source": [
    "We can also define methods of the class that are capable of changing the instance attributes."
   ]
  },
  {
   "cell_type": "code",
   "execution_count": 22,
   "metadata": {
    "colab": {},
    "colab_type": "code",
    "id": "xHji7EmxLT7l"
   },
   "outputs": [],
   "source": [
    "class star:  \n",
    "    def __init__(self, temp,rad,dist):\n",
    "        self.Temperature = temp*u.K\n",
    "        self.Radius = rad*u.Rsun\n",
    "        self.distance = dist*u.lightyear\n",
    "    \n",
    "    def print_star(self):\n",
    "        print(f'Temperature={self.Temperature}  \\n Radius={self.Radius}  \\n Distance={self.distance}')\n",
    "    \n",
    "    def set_temp(self,temp):\n",
    "        self.Temperature = temp*u.K"
   ]
  },
  {
   "cell_type": "code",
   "execution_count": 23,
   "metadata": {
    "colab": {
     "base_uri": "https://localhost:8080/",
     "height": 119
    },
    "colab_type": "code",
    "id": "SEnf2MPPLT7m",
    "outputId": "3ee47370-776a-488e-eb1c-09d8ac15ead9"
   },
   "outputs": [
    {
     "name": "stdout",
     "output_type": "stream",
     "text": [
      "Temperature=0.0 K  \n",
      " Radius=887.0 solRad  \n",
      " Distance=700.0 lyr\n",
      "Temperature=3590.0 K  \n",
      " Radius=887.0 solRad  \n",
      " Distance=700.0 lyr\n"
     ]
    }
   ],
   "source": [
    "Betelgeuse = star(0,887,700)\n",
    "Betelgeuse.print_star()\n",
    "Betelgeuse.set_temp(3590)\n",
    "Betelgeuse.print_star()"
   ]
  },
  {
   "cell_type": "markdown",
   "metadata": {
    "colab_type": "text",
    "id": "bgaJhx_vLT7o"
   },
   "source": [
    "Methods can also return values."
   ]
  },
  {
   "cell_type": "code",
   "execution_count": 24,
   "metadata": {
    "colab": {},
    "colab_type": "code",
    "id": "x37vAckrLT7o"
   },
   "outputs": [],
   "source": [
    "class star:\n",
    "    def __init__(self, temp,rad,dist):\n",
    "        self.Temperature = temp*u.K\n",
    "        self.Radius = rad*u.Rsun\n",
    "        self.distance = dist*u.lightyear\n",
    "    \n",
    "    def print_star(self):\n",
    "        print(f'Temperature={self.Temperature} \\n Radius={self.Radius}  \\n Distance={self.distance}')\n",
    "    \n",
    "    def set_temp(self,temp):\n",
    "        self.Temperature = temp*u.K\n",
    "    \n",
    "    def add_uncertainty(self,uncertainty):\n",
    "        return (self.Radius + uncertainty*u.Rsun)"
   ]
  },
  {
   "cell_type": "code",
   "execution_count": 25,
   "metadata": {
    "colab": {
     "base_uri": "https://localhost:8080/",
     "height": 34
    },
    "colab_type": "code",
    "id": "h-BBzeouLT7q",
    "outputId": "b9ca780e-3e0b-44af-bcd7-1207e65bc253"
   },
   "outputs": [
    {
     "name": "stdout",
     "output_type": "stream",
     "text": [
      "987.0 solRad\n"
     ]
    }
   ],
   "source": [
    "Betelgeuse = star(3590,887,700)\n",
    "print(Betelgeuse.add_uncertainty(100))"
   ]
  },
  {
   "cell_type": "markdown",
   "metadata": {
    "colab_type": "text",
    "id": "46EK3OAgLT7w"
   },
   "source": [
    "## Inheritance in Python"
   ]
  },
  {
   "cell_type": "markdown",
   "metadata": {
    "colab_type": "text",
    "id": "PYSTZa0oLT7w"
   },
   "source": [
    "A class encapsulates its data and functions in a single entity and only its own functions and objects can access the information it contains. This might get troublesome sometimes. For instance, let us say we have a class for red giants. Red giants are stars and ideally should have all the attributes and functions of the star class, but if defined as a separate class, the objects of the red giant class would not have access to those and we would need to define functions for them separately. This is where Inheritance comes in. Inheritance is the property of a class to inherit the data and functions of another class. The class who receives these properties is called the <i>child class</i> and the class to whom these properties originally belong is called the <i>parent class</i>."
   ]
  },
  {
   "cell_type": "code",
   "execution_count": 31,
   "metadata": {
    "colab": {},
    "colab_type": "code",
    "id": "rGysA3GjMdoQ"
   },
   "outputs": [],
   "source": [
    "class star:    \n",
    "    def __init__(self, temp,rad,dist):\n",
    "        self.Temperature = temp*u.K\n",
    "        self.Radius = rad*u.Rsun\n",
    "        self.distance = dist*u.lightyear\n",
    "    \n",
    "    def print_star(self):\n",
    "        print(f'Temperature={self.Temperature} \\n Radius={self.Radius} \\n Distance={self.distance}')\n",
    "    \n",
    "    def set_temp(self,temp):\n",
    "        self.Temperature = temp*u.K\n",
    "    \n",
    "    def add_uncertainty(self,uncertainty):\n",
    "        return (self.Radius_solar + uncertainty*u.Rsun)\n",
    "\n",
    "class redgiant(star):               # Notice the argument\n",
    "    def isredgiant(self):\n",
    "        return True\n"
   ]
  },
  {
   "cell_type": "code",
   "execution_count": 32,
   "metadata": {
    "colab": {
     "base_uri": "https://localhost:8080/",
     "height": 68
    },
    "colab_type": "code",
    "id": "-bDRw8tYNJyC",
    "outputId": "fa8599a1-9863-4627-c6a0-23a7927afe72"
   },
   "outputs": [
    {
     "name": "stdout",
     "output_type": "stream",
     "text": [
      "True\n",
      "Temperature=3910.0 K \n",
      " Radius=44.0 solRad \n",
      " Distance=65.23 lyr\n"
     ]
    }
   ],
   "source": [
    "Aldebaran=redgiant(3910,44,65.23) \n",
    "# This command calls the __init__() function of the parent class,i.e. star class,\n",
    "# Aldebaran is now an object of the redgiant class\n",
    "\n",
    "print(Aldebaran.isredgiant())\n",
    "Aldebaran.print_star()              # We can access the member functions of the parent class"
   ]
  },
  {
   "cell_type": "markdown",
   "metadata": {
    "colab_type": "text",
    "id": "S8ArHb2LPBJu"
   },
   "source": [
    "Here, star is the parent class and redgiant is the child class. The name of the parent class is provided as an argument to the child class. If there are multiple parent classes, then you add them as comma-separated arguments to the child class. Giving the star class as an argument to the definition of the redgiant class essentially means that whenever an object of the redgiant class is created, the `__init__()` function of the star class gets called. Hence, the following code won't work."
   ]
  },
  {
   "cell_type": "code",
   "execution_count": 33,
   "metadata": {
    "colab": {
     "base_uri": "https://localhost:8080/",
     "height": 164
    },
    "colab_type": "code",
    "id": "uxR72sIGU0QJ",
    "outputId": "9cfb80ab-3f5e-4918-ab39-214d80da46eb"
   },
   "outputs": [
    {
     "ename": "TypeError",
     "evalue": "star.__init__() missing 3 required positional arguments: 'temp', 'rad', and 'dist'",
     "output_type": "error",
     "traceback": [
      "\u001b[1;31m---------------------------------------------------------------------------\u001b[0m",
      "\u001b[1;31mTypeError\u001b[0m                                 Traceback (most recent call last)",
      "Cell \u001b[1;32mIn [33], line 1\u001b[0m\n\u001b[1;32m----> 1\u001b[0m Aldebaran \u001b[38;5;241m=\u001b[39m \u001b[43mredgiant\u001b[49m\u001b[43m(\u001b[49m\u001b[43m)\u001b[49m\n",
      "\u001b[1;31mTypeError\u001b[0m: star.__init__() missing 3 required positional arguments: 'temp', 'rad', and 'dist'"
     ]
    }
   ],
   "source": [
    "Aldebaran = redgiant()"
   ]
  },
  {
   "cell_type": "markdown",
   "metadata": {
    "colab_type": "text",
    "id": "nW8ztxbVUgcm"
   },
   "source": [
    "But what if you wanted the child class to have its own `__init__()` function?"
   ]
  },
  {
   "cell_type": "code",
   "execution_count": 34,
   "metadata": {
    "colab": {},
    "colab_type": "code",
    "id": "jUkMUeEGUte-"
   },
   "outputs": [],
   "source": [
    "class star(object):    \n",
    "    def __init__(self, temp,rad,dist):\n",
    "        self.Temperature_K = temp\n",
    "        self.Radius_solar = rad\n",
    "        self.distance_light_years = dist\n",
    "    \n",
    "    def print_star(self):\n",
    "        print(f'Temperature={self.Temperature_K} K \\n Radius={self.Radius_solar} solar radii \\n Distance={self.distance_light_years} ly')\n",
    "    \n",
    "    def add_uncertainty(self,uncertainty):\n",
    "        return (self.Radius_solar+uncertainty)\n",
    "\n",
    "class redgiant(star):\n",
    "    def __init__(self,temp,rad,dist,age):\n",
    "        self.age = age*u.yr\n",
    "        star.__init__(self,temp,rad,dist)    # Invoking the __init() function of the star class explicitly\n",
    "    \n",
    "    def isredgiant(self):\n",
    "        return True\n",
    "    \n",
    "    def print_age(self):\n",
    "        print(self.age)"
   ]
  },
  {
   "cell_type": "code",
   "execution_count": 35,
   "metadata": {
    "colab": {
     "base_uri": "https://localhost:8080/",
     "height": 102
    },
    "colab_type": "code",
    "id": "WupVrI0bVjcY",
    "outputId": "b70e6a7d-51a9-4464-c014-2b4a45337e03"
   },
   "outputs": [
    {
     "name": "stdout",
     "output_type": "stream",
     "text": [
      "True\n",
      "6605000000.0 yr\n",
      "Temperature=3910 K \n",
      " Radius=44 solar radii \n",
      " Distance=65.23 ly\n"
     ]
    }
   ],
   "source": [
    "Aldebaran = redgiant(3910,44,65.23,6.605*10**9)\n",
    "print(Aldebaran.isredgiant())\n",
    "Aldebaran.print_age()\n",
    "Aldebaran.print_star()"
   ]
  },
  {
   "cell_type": "markdown",
   "metadata": {
    "colab_type": "text",
    "id": "CitKq4NwXjom"
   },
   "source": [
    "The `__init__() ` function for the child class SHOULD have as arguments all the arguments needed for the `__init__()` function of the parent class. Unlike last time when the parent class's `__init__()` function got called automatically, you HAVE to provide an explicit call to the parent class's `__init__()` function."
   ]
  },
  {
   "cell_type": "markdown",
   "metadata": {
    "colab_type": "text",
    "id": "XMBcRJ_SiNEd"
   },
   "source": [
    "## Passing objects through functions"
   ]
  },
  {
   "cell_type": "markdown",
   "metadata": {
    "colab_type": "text",
    "id": "kIumCYCciY3e"
   },
   "source": [
    "A class is a user-defined data structure and it behaves like a mutable datatype. Passing an object as a parameter to a function works the same way as passing any other mutable data type to a function."
   ]
  },
  {
   "cell_type": "code",
   "execution_count": 73,
   "metadata": {
    "colab": {},
    "colab_type": "code",
    "id": "aDRcWIstkPfr"
   },
   "outputs": [],
   "source": [
    "def change_temp1(obj):\n",
    "    print(2*obj.Temperature)\n",
    "\n",
    "def change_temp2(obj):\n",
    "    Rigel=star(11000,78.9,864.3)\n",
    "    obj=Rigel                                  # Rigel gets stored in an object copied from obj\n",
    "    print(obj.Temperature)\n",
    "\n",
    "def change_temp3(obj):\n",
    "    obj.Temperature=obj.Temperature*2\n",
    "    print(obj.Temperature)\n",
    "\n",
    "class star(object):    \n",
    "    def __init__(self, temp,rad,dist):\n",
    "        self.Temperature = temp*u.K\n",
    "        self.Radius = rad*u.Rsun\n",
    "        self.distance = dist*u.pc\n",
    "    \n",
    "    def print_star(self):\n",
    "        print(f'Temperature={self.Temperature}  \\n Radius={self.Radius} \\n Distance={self.distance}')\n",
    "    \n",
    "    def add_uncertainty(self,uncertainty):\n",
    "        return (self.Radius_solar+uncertainty*u.Rsun)"
   ]
  },
  {
   "cell_type": "code",
   "execution_count": 74,
   "metadata": {
    "colab": {
     "base_uri": "https://localhost:8080/",
     "height": 85
    },
    "colab_type": "code",
    "id": "Y2KVvKcjlKD5",
    "outputId": "541284f0-86b1-4cc8-cf10-84013ff11eda"
   },
   "outputs": [
    {
     "name": "stdout",
     "output_type": "stream",
     "text": [
      "7180.0 K\n",
      "Temperature=3590.0 K  \n",
      " Radius=887.0 solRad \n",
      " Distance=700.0 pc\n"
     ]
    }
   ],
   "source": [
    "Betelgeuse=star(3590,887,700)\n",
    "change_temp1(Betelgeuse)\n",
    "Betelgeuse.print_star()"
   ]
  },
  {
   "cell_type": "code",
   "execution_count": 75,
   "metadata": {
    "colab": {
     "base_uri": "https://localhost:8080/",
     "height": 85
    },
    "colab_type": "code",
    "id": "Lnq5sfDQrJYr",
    "outputId": "80cc1726-6e3b-4f13-cfa8-7d0ead7e1edf"
   },
   "outputs": [
    {
     "name": "stdout",
     "output_type": "stream",
     "text": [
      "11000.0 K\n",
      "Temperature=3590.0 K  \n",
      " Radius=887.0 solRad \n",
      " Distance=700.0 pc\n"
     ]
    }
   ],
   "source": [
    "Betelgeuse=star(3590,887,700)\n",
    "change_temp2(Betelgeuse)\n",
    "Betelgeuse.print_star()"
   ]
  },
  {
   "cell_type": "code",
   "execution_count": 76,
   "metadata": {
    "colab": {
     "base_uri": "https://localhost:8080/",
     "height": 85
    },
    "colab_type": "code",
    "id": "wRniF1JBrLHH",
    "outputId": "1e344b61-7929-42eb-bf9c-5cb3e6d11716"
   },
   "outputs": [
    {
     "name": "stdout",
     "output_type": "stream",
     "text": [
      "7180.0 K\n",
      "Temperature=7180.0 K  \n",
      " Radius=887.0 solRad \n",
      " Distance=700.0 pc\n"
     ]
    }
   ],
   "source": [
    "Betelgeuse=star(3590,887,700)\n",
    "change_temp3(Betelgeuse)\n",
    "Betelgeuse.print_star()"
   ]
  },
  {
   "cell_type": "markdown",
   "metadata": {
    "colab_type": "text",
    "id": "yxMBH8n2pIob"
   },
   "source": [
    "Do remember that in Python, for mutable objects, as long as the object being passed is not being changed element-wise, the original object will not be changed."
   ]
  },
  {
   "cell_type": "markdown",
   "metadata": {
    "colab_type": "text",
    "id": "fW0k-FtecuSf"
   },
   "source": [
    "## Your Assignment..."
   ]
  },
  {
   "cell_type": "markdown",
   "metadata": {
    "colab_type": "text",
    "id": "D3HrUyVMc5Pi"
   },
   "source": [
    "...should you choose to accept it, is as follows :<br>\n",
    "**Task 1 :** Make a class for a filter read from a FITS file. Each object of this class should be for a specific filter(for instance, U/G/R/I/Z). The class should have the following attributes:<br>\n",
    "1. An array containing the quantum efficiency values for that filter as an instance attribute.\n",
    "2. An array containing the wavelength values as an instance attribute.\n",
    "<br>\n",
    "\n",
    "\n",
    "The class should contain the following functions :<br>\n",
    " 1. An `__init__()` function which initializes the array for quantum efficiency .<br>\n",
    " 2. A member function `calc_intensity()` which calculates the intensity of a star given an object of a star class as its argument.<br>\n",
    " You can use the code that you wrote in Tutorial 10 in this task directly.<br>"
   ]
  },
  {
   "cell_type": "code",
   "execution_count": 77,
   "metadata": {},
   "outputs": [],
   "source": [
    "from astropy.io import fits\n",
    "from astropy import constants as const\n",
    "import numpy as np"
   ]
  },
  {
   "cell_type": "code",
   "execution_count": 78,
   "metadata": {},
   "outputs": [],
   "source": [
    "h = const.h\n",
    "c = const.c\n",
    "kB = const.k_B"
   ]
  },
  {
   "cell_type": "code",
   "execution_count": 86,
   "metadata": {},
   "outputs": [],
   "source": [
    "class star(object):    \n",
    "    def __init__(self, temp,rad,dist):\n",
    "        self.Temperature = temp*u.K\n",
    "        self.Radius = rad*u.Rsun\n",
    "        self.distance = dist.to(u.lightyear)"
   ]
  },
  {
   "cell_type": "code",
   "execution_count": 87,
   "metadata": {},
   "outputs": [
    {
     "name": "stdout",
     "output_type": "stream",
     "text": [
      "Filename: filter_curves.fits\n",
      "No.    Name      Ver    Type      Cards   Dimensions   Format\n",
      "  0  PRIMARY       1 PrimaryHDU      63   ()      \n",
      "  1  U             1 BinTableHDU     20   47R x 5C   [E, E, E, E, E]   \n",
      "  2  G             1 BinTableHDU     20   89R x 5C   [E, E, E, E, E]   \n",
      "  3  R             1 BinTableHDU     20   75R x 5C   [E, E, E, E, E]   \n",
      "  4  I             1 BinTableHDU     20   89R x 5C   [E, E, E, E, E]   \n",
      "  5  Z             1 BinTableHDU     20   141R x 5C   [E, E, E, E, E]   \n"
     ]
    }
   ],
   "source": [
    "SDSS_filter = fits.open('filter_curves.fits')\n",
    "SDSS_filter.info()"
   ]
  },
  {
   "cell_type": "code",
   "execution_count": 88,
   "metadata": {},
   "outputs": [],
   "source": [
    "U = SDSS_filter[1].data\n",
    "G = SDSS_filter[2].data\n",
    "R = SDSS_filter[3].data\n",
    "I = SDSS_filter[4].data\n",
    "Z = SDSS_filter[5].data"
   ]
  },
  {
   "cell_type": "code",
   "execution_count": 89,
   "metadata": {},
   "outputs": [],
   "source": [
    "def B(wl,T): #lambda is a reserved keyword in python, so wavelength is assigned variable wl\n",
    "    exponential = 1/(np.exp(h*c/(wl*kB*T))-1)\n",
    "    prefactor = 2*np.pi*h*c*c/wl**5\n",
    "    return prefactor*exponential"
   ]
  },
  {
   "cell_type": "code",
   "execution_count": 90,
   "metadata": {},
   "outputs": [],
   "source": [
    "class filter_():\n",
    "    def __init__(self,fil):\n",
    "        self.q = fil['respt']\n",
    "        self.wl=fil['wavelength']*u.AA\n",
    "    def calc_intensity(self,star):\n",
    "        integral = 0*u.W/u.m**2\n",
    "        i = 1\n",
    "        while i < len(self.wl):\n",
    "            integral += B((self.wl[i-1]+self.wl[i])/2 , star.Temperature)*(self.q[i-1]+self.q[i])/2*(self.wl[i]-self.wl[i-1])\n",
    "            i = i + 1\n",
    "        intensity = integral*(star.Radius/star.distance)**2\n",
    "        return (intensity.to(u.W/u.m**2))\n",
    "        \n",
    "    "
   ]
  },
  {
   "cell_type": "code",
   "execution_count": 91,
   "metadata": {},
   "outputs": [],
   "source": [
    "Uf=filter_(U)\n",
    "Gf=filter_(G)\n",
    "Rf=filter_(R)\n",
    "If=filter_(I)\n",
    "Zf=filter_(Z)"
   ]
  },
  {
   "cell_type": "code",
   "execution_count": 94,
   "metadata": {},
   "outputs": [],
   "source": [
    "Sirius=star(9940,1.711,2.64 * u.pc) "
   ]
  },
  {
   "cell_type": "code",
   "execution_count": 93,
   "metadata": {},
   "outputs": [
    {
     "data": {
      "text/latex": [
       "$7.0242217 \\times 10^{-9} \\; \\mathrm{\\frac{W}{m^{2}}}$"
      ],
      "text/plain": [
       "<Quantity 7.0242217e-09 W / m2>"
      ]
     },
     "execution_count": 93,
     "metadata": {},
     "output_type": "execute_result"
    }
   ],
   "source": [
    "Gf.calc_intensity(Sirius)"
   ]
  }
 ],
 "metadata": {
  "colab": {
   "name": "Classes.ipynb",
   "provenance": []
  },
  "kernelspec": {
   "display_name": "Python 3 (ipykernel)",
   "language": "python",
   "name": "python3"
  },
  "language_info": {
   "codemirror_mode": {
    "name": "ipython",
    "version": 3
   },
   "file_extension": ".py",
   "mimetype": "text/x-python",
   "name": "python",
   "nbconvert_exporter": "python",
   "pygments_lexer": "ipython3",
   "version": "3.10.6"
  }
 },
 "nbformat": 4,
 "nbformat_minor": 1
}
