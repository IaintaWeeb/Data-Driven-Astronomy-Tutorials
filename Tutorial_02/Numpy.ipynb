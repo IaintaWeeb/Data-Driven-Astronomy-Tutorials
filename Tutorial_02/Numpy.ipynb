{
 "cells": [
  {
   "cell_type": "markdown",
   "metadata": {},
   "source": [
    "# Introduction to NumPy"
   ]
  },
  {
   "cell_type": "markdown",
   "metadata": {},
   "source": [
    "In [Tutorial 1](../Tutorial_01), you have seen list, tuple and dictionaries (and we hinted at sets). However, these are not particularly useful when you want to do numerical calculations, or matrix operations. You could try to write a for loop that would iterate through each element, however Python is very slow with operations like that. \n",
    "\n",
    "A better (more Pythonic) way is to use the package known as `numpy`. Numpy arrays are similar to lists and tuples etc. in that they hold multiple values. However, all elements in a numpy array must be of the same data type. \n",
    "\n",
    "Disregarding that small setback, however, we now have a lot more functionality in numpy arrays. It is convenient to think of the behaviour of numpy arrays as similar to a row vector."
   ]
  },
  {
   "cell_type": "code",
   "execution_count": 2,
   "metadata": {},
   "outputs": [],
   "source": [
    "import numpy as np # This is how you can import packages in python. "
   ]
  },
  {
   "cell_type": "markdown",
   "metadata": {},
   "source": [
    "The above line imports the package numpy (which includes all the functions we will be using). The part `as np` renames it to `np` (just for this program, don't worry), which is slightly more convenient. "
   ]
  },
  {
   "cell_type": "markdown",
   "metadata": {},
   "source": [
    "Let us assign a numpy array to a variable x. "
   ]
  },
  {
   "cell_type": "code",
   "execution_count": 3,
   "metadata": {},
   "outputs": [
    {
     "name": "stdout",
     "output_type": "stream",
     "text": [
      "[1 2 3 4]\n",
      "[2 4 6 8]\n"
     ]
    }
   ],
   "source": [
    "x=np.array([1,2,3,4]) # np.array converts any array-like object to a numpy array\n",
    "#x=[1,2,3,4]\n",
    "y=2*x\n",
    "print(\"{}\\n{}\".format(x,y))"
   ]
  },
  {
   "cell_type": "markdown",
   "metadata": {},
   "source": [
    "Try the above code with a normal list. Now, hopefully it is clear why `numpy` is powerful. But that is just the beginning!"
   ]
  },
  {
   "cell_type": "code",
   "execution_count": 4,
   "metadata": {},
   "outputs": [
    {
     "name": "stdout",
     "output_type": "stream",
     "text": [
      "[ 4  5  6  7  8  9 10]\n"
     ]
    }
   ],
   "source": [
    "x = np.arange(0,100, 1) # This is similar to the range function from earlier, except that it returns a numpy array\n",
    "print(x[[4,5,6,7,8,9,10]])"
   ]
  },
  {
   "cell_type": "markdown",
   "metadata": {},
   "source": [
    "Trying a similar trick with a list instead: (this should give an error!)"
   ]
  },
  {
   "cell_type": "code",
   "execution_count": 5,
   "metadata": {},
   "outputs": [
    {
     "ename": "TypeError",
     "evalue": "list indices must be integers or slices, not list",
     "output_type": "error",
     "traceback": [
      "\u001b[1;31m---------------------------------------------------------------------------\u001b[0m",
      "\u001b[1;31mTypeError\u001b[0m                                 Traceback (most recent call last)",
      "Cell \u001b[1;32mIn [5], line 2\u001b[0m\n\u001b[0;32m      1\u001b[0m x \u001b[38;5;241m=\u001b[39m [\u001b[38;5;241m1\u001b[39m,\u001b[38;5;241m2\u001b[39m,\u001b[38;5;241m3\u001b[39m,\u001b[38;5;241m4\u001b[39m,\u001b[38;5;241m5\u001b[39m,\u001b[38;5;241m6\u001b[39m,\u001b[38;5;241m7\u001b[39m,\u001b[38;5;241m8\u001b[39m,\u001b[38;5;241m9\u001b[39m,\u001b[38;5;241m10\u001b[39m]\n\u001b[1;32m----> 2\u001b[0m \u001b[38;5;28mprint\u001b[39m(\u001b[43mx\u001b[49m\u001b[43m[\u001b[49m\u001b[43m[\u001b[49m\u001b[38;5;241;43m0\u001b[39;49m\u001b[43m,\u001b[49m\u001b[38;5;241;43m1\u001b[39;49m\u001b[43m,\u001b[49m\u001b[38;5;241;43m2\u001b[39;49m\u001b[43m]\u001b[49m\u001b[43m]\u001b[49m)\n",
      "\u001b[1;31mTypeError\u001b[0m: list indices must be integers or slices, not list"
     ]
    }
   ],
   "source": [
    "x = [1,2,3,4,5,6,7,8,9,10]\n",
    "print(x[[0,1,2]])"
   ]
  },
  {
   "cell_type": "markdown",
   "metadata": {},
   "source": [
    "So `numpy` also supports indexing with lists, instead of only integers or slices, whereas lists don't. "
   ]
  },
  {
   "cell_type": "markdown",
   "metadata": {},
   "source": [
    "Similar to the `len` function, numpy also has several functions to describe an array. These are also available as methods, which can be used as follows:"
   ]
  },
  {
   "cell_type": "code",
   "execution_count": 6,
   "metadata": {},
   "outputs": [
    {
     "name": "stdout",
     "output_type": "stream",
     "text": [
      "[[1 2 3]\n",
      " [4 5 6]\n",
      " [7 8 9]]\n"
     ]
    }
   ],
   "source": [
    "x=np.array([[1,2,3],[4,5,6],[7,8,9]])\n",
    "print(x)"
   ]
  },
  {
   "cell_type": "code",
   "execution_count": 7,
   "metadata": {},
   "outputs": [
    {
     "name": "stdout",
     "output_type": "stream",
     "text": [
      "2\n",
      "(3, 3)\n",
      "9\n"
     ]
    }
   ],
   "source": [
    "print(x.ndim) # number of dimensions. This is a 2D array\n",
    "print(x.shape) # Shape of array\n",
    "print(x.size) # Total number of elements in array (product of elements in shape)"
   ]
  },
  {
   "cell_type": "markdown",
   "metadata": {},
   "source": [
    "Multiplication, like addition is element wise. If matrix multiplication is required, we can either convert it into a numpy matrix or use `np.dot()`"
   ]
  },
  {
   "cell_type": "code",
   "execution_count": 8,
   "metadata": {},
   "outputs": [
    {
     "data": {
      "text/plain": [
       "array([[ 1,  4,  9],\n",
       "       [16, 25, 36],\n",
       "       [49, 64, 81]])"
      ]
     },
     "execution_count": 8,
     "metadata": {},
     "output_type": "execute_result"
    }
   ],
   "source": [
    "x*x"
   ]
  },
  {
   "cell_type": "code",
   "execution_count": 9,
   "metadata": {},
   "outputs": [
    {
     "data": {
      "text/plain": [
       "matrix([[ 30,  36,  42],\n",
       "        [ 66,  81,  96],\n",
       "        [102, 126, 150]])"
      ]
     },
     "execution_count": 9,
     "metadata": {},
     "output_type": "execute_result"
    }
   ],
   "source": [
    "np.matrix(x)*np.matrix(x)"
   ]
  },
  {
   "cell_type": "code",
   "execution_count": 10,
   "metadata": {},
   "outputs": [
    {
     "data": {
      "text/plain": [
       "array([[ 30,  36,  42],\n",
       "       [ 66,  81,  96],\n",
       "       [102, 126, 150]])"
      ]
     },
     "execution_count": 10,
     "metadata": {},
     "output_type": "execute_result"
    }
   ],
   "source": [
    "np.dot(x,x)"
   ]
  },
  {
   "cell_type": "markdown",
   "metadata": {},
   "source": [
    "Comparisons on numpy arrays are easier now"
   ]
  },
  {
   "cell_type": "code",
   "execution_count": 11,
   "metadata": {},
   "outputs": [
    {
     "data": {
      "text/plain": [
       "array([[False, False, False],\n",
       "       [False, False,  True],\n",
       "       [ True,  True,  True]])"
      ]
     },
     "execution_count": 11,
     "metadata": {},
     "output_type": "execute_result"
    }
   ],
   "source": [
    "x>5"
   ]
  },
  {
   "cell_type": "markdown",
   "metadata": {},
   "source": [
    "We can also use conditional expressions like indices"
   ]
  },
  {
   "cell_type": "code",
   "execution_count": 12,
   "metadata": {},
   "outputs": [
    {
     "data": {
      "text/plain": [
       "array([[1, 2, 3],\n",
       "       [4, 5, 0],\n",
       "       [0, 0, 0]])"
      ]
     },
     "execution_count": 12,
     "metadata": {},
     "output_type": "execute_result"
    }
   ],
   "source": [
    "y=np.copy(x) # Simply typing y=x doesnot make a new array, it just adds a reference to the old one.\n",
    "             # Changes in y will then be reflected in x\n",
    "y[y>5]=0\n",
    "y"
   ]
  },
  {
   "cell_type": "markdown",
   "metadata": {},
   "source": [
    "If we just want the indices where a certain condition is satisified, we can use `np.where()`. This is one of the more **important** functions, as we can use it to filter out data according to conditions. "
   ]
  },
  {
   "cell_type": "code",
   "execution_count": 13,
   "metadata": {},
   "outputs": [
    {
     "data": {
      "text/plain": [
       "array([0. , 1. , 2. , 3. , 4. , 0.5, 0.6])"
      ]
     },
     "execution_count": 13,
     "metadata": {},
     "output_type": "execute_result"
    }
   ],
   "source": [
    "x=np.array([0,1,2,3,4,5,6,7,0.5,0.6])\n",
    "indices=np.where(x<5)\n",
    "x[indices]"
   ]
  },
  {
   "cell_type": "markdown",
   "metadata": {},
   "source": [
    "We can also delete elements using `numpy.delete`. \n",
    "\n",
    "Note the array slicing. x is 2 dimensional, and requires 2 indices. `x[:, 0]` returns `np.array[1,4,7]`. Play around with different combinations to become comfortable with using indices, as well as `np.where`. \n",
    "\n",
    "Also note the argument of the function called `axis`. For a 2D array, `axis=0` is along the rows, and `axis=1` is along the columns. `np.where` assigns the index to be `(np.array([2]))`. Removing index 2 along the columns results in y. If you wanted to remove the row instead, then use `axis=0`. "
   ]
  },
  {
   "cell_type": "code",
   "execution_count": 14,
   "metadata": {},
   "outputs": [
    {
     "name": "stdout",
     "output_type": "stream",
     "text": [
      "[[1 2]\n",
      " [4 5]\n",
      " [7 8]]\n"
     ]
    }
   ],
   "source": [
    "x=np.array([[1,2,3],[4,5,6],[7,8,9]])\n",
    "index=np.where(x[:,0]>5)\n",
    "y=np.delete(x,index,axis=1)\n",
    "print(y)"
   ]
  },
  {
   "cell_type": "markdown",
   "metadata": {},
   "source": [
    "**Make sure you understand the part about indexing, slicing, and using `np.where` and `np.delete`, and are comfortable using it. Try out different arrays that you define yourself, of different dimensions and shapes, and experiment!!**"
   ]
  },
  {
   "cell_type": "markdown",
   "metadata": {},
   "source": [
    "Other useful functions in numpy like `numpy.arange`, `numpy.linspace` often come in handy. We have already seen `arange`"
   ]
  },
  {
   "cell_type": "code",
   "execution_count": 15,
   "metadata": {},
   "outputs": [
    {
     "data": {
      "text/plain": [
       "array([0. , 0.1, 0.2, 0.3, 0.4, 0.5, 0.6, 0.7, 0.8, 0.9])"
      ]
     },
     "execution_count": 15,
     "metadata": {},
     "output_type": "execute_result"
    }
   ],
   "source": [
    "np.arange(0,1,0.1) # start(inclusive):stop(exclusive):step"
   ]
  },
  {
   "cell_type": "code",
   "execution_count": 16,
   "metadata": {},
   "outputs": [
    {
     "data": {
      "text/plain": [
       "array([0.  , 0.25, 0.5 , 0.75, 1.  ])"
      ]
     },
     "execution_count": 16,
     "metadata": {},
     "output_type": "execute_result"
    }
   ],
   "source": [
    "np.linspace(0,1,5) #start:stop(inclusive):number of elements"
   ]
  },
  {
   "cell_type": "markdown",
   "metadata": {},
   "source": [
    "That is not even it. Several mathematical functions are also available:"
   ]
  },
  {
   "cell_type": "code",
   "execution_count": 17,
   "metadata": {},
   "outputs": [],
   "source": [
    "x = np.arange(-np.pi, np.pi, 0.1)\n",
    "y = np.sin(x)\n",
    "x_abs = np.abs(x)"
   ]
  },
  {
   "cell_type": "code",
   "execution_count": 18,
   "metadata": {},
   "outputs": [],
   "source": [
    "y2 = np.exp(x)"
   ]
  },
  {
   "cell_type": "markdown",
   "metadata": {},
   "source": [
    "If you thought `numpy` has revealed all its cards, it hasn't yet! <br>\n",
    "You can also find the mean, standard deviation, maximum, minimum of an array, sort an array, do matrix computations and so much more. \n",
    "\n",
    "If you feel right now that NumPy is vast, remember we have barely scratched the surface. In this module and the next is where your Googling skills will be put to the test. \n",
    "\n",
    "If you want to find the official docstrings for any function, an easy way to get it from Jupyter is to use `?`. For example"
   ]
  },
  {
   "cell_type": "code",
   "execution_count": 23,
   "metadata": {},
   "outputs": [],
   "source": [
    "# Note that this is a very useful function, since we can use it to filter out data. \n",
    "np.loadtxt?"
   ]
  },
  {
   "cell_type": "markdown",
   "metadata": {},
   "source": [
    "As a final note, we will end the tutorial part of this notebook by introducing `np.loadtxt`, a function that can be used to load a txt file into a numpy array. (If you remember how difficult it was to import a text file using `open` and `.split()`, then you will appreciate this one!)"
   ]
  },
  {
   "cell_type": "code",
   "execution_count": 55,
   "metadata": {},
   "outputs": [
    {
     "data": {
      "text/plain": [
       "array([[ 6.300e+00,  1.770e+00,  1.000e+02],\n",
       "       [ 6.390e+00,  1.850e+00,  1.000e+02],\n",
       "       [ 6.440e+00,  1.850e+00,  1.000e+02],\n",
       "       [ 6.590e+00,  1.760e+00,  1.000e+02],\n",
       "       [ 6.610e+00,  1.720e+00,  3.500e+01],\n",
       "       [ 6.610e+00,  1.720e+00,  4.700e+01],\n",
       "       [ 6.610e+00,  1.720e+00,  1.700e+01],\n",
       "       [ 6.670e+00,  1.620e+00,  1.000e+02],\n",
       "       [ 6.780e+00,  1.570e+00,  1.000e+02],\n",
       "       [ 6.780e+00,  1.580e+00,  1.000e+02],\n",
       "       [ 6.850e+00,  1.550e+00,  1.000e+02],\n",
       "       [ 6.900e+00,  1.640e+00,  1.000e+02],\n",
       "       [ 7.320e+00,  1.360e+00,  1.000e+02],\n",
       "       [ 7.450e+00,  1.310e+00,  1.000e+02],\n",
       "       [ 7.540e+00,  1.270e+00,  1.000e+02],\n",
       "       [ 7.540e+00,  1.280e+00,  4.300e+01],\n",
       "       [ 7.540e+00,  1.280e+00,  2.700e+01],\n",
       "       [ 7.540e+00,  1.280e+00,  3.000e+01],\n",
       "       [ 7.670e+00,  1.220e+00,  4.300e+01],\n",
       "       [ 7.670e+00,  1.220e+00,  2.400e+01],\n",
       "       [ 7.670e+00,  1.220e+00,  3.300e+01],\n",
       "       [ 7.700e+00,  1.210e+00,  4.300e+01],\n",
       "       [ 7.700e+00,  1.210e+00,  2.400e+01],\n",
       "       [ 7.700e+00,  1.210e+00,  3.300e+01],\n",
       "       [ 7.730e+00,  1.200e+00,  1.000e+02],\n",
       "       [ 7.960e+00,  1.110e+00,  1.000e+02],\n",
       "       [ 8.020e+00,  1.080e+00,  1.000e+02],\n",
       "       [ 8.180e+00,  1.010e+00,  1.000e+02],\n",
       "       [ 8.310e+00,  9.600e-01,  1.000e+02],\n",
       "       [ 8.330e+00,  9.600e-01,  1.000e+02],\n",
       "       [ 8.500e+00,  8.900e-01,  1.000e+02],\n",
       "       [ 8.710e+00,  8.000e-01,  1.000e+02],\n",
       "       [ 8.810e+00,  7.600e-01,  1.000e+02],\n",
       "       [ 8.890e+00,  7.300e-01,  1.000e+02],\n",
       "       [ 9.000e+00,  6.900e-01,  1.000e+02],\n",
       "       [ 9.040e+00,  6.700e-01,  1.000e+02],\n",
       "       [ 9.230e+00,  6.000e-01,  1.000e+02],\n",
       "       [ 9.310e+00,  5.800e-01,  6.200e+01],\n",
       "       [ 9.310e+00,  5.800e-01,  9.000e+00],\n",
       "       [ 9.310e+00,  5.800e-01,  3.000e+01],\n",
       "       [ 9.370e+00,  5.500e-01,  1.000e+02],\n",
       "       [ 9.390e+00,  5.400e-01,  1.000e+02],\n",
       "       [ 9.420e+00,  5.300e-01,  1.000e+02],\n",
       "       [ 9.550e+00,  4.800e-01,  1.000e+02],\n",
       "       [ 9.590e+00,  4.600e-01,  1.000e+02],\n",
       "       [ 9.670e+00,  4.300e-01,  1.000e+02],\n",
       "       [ 9.680e+00,  4.200e-01,  1.000e+02],\n",
       "       [ 9.770e+00,  3.900e-01,  1.000e+02],\n",
       "       [ 9.790e+00,  3.900e-01,  1.000e+02],\n",
       "       [ 9.830e+00,  3.700e-01,  1.000e+02],\n",
       "       [ 9.850e+00,  3.600e-01,  1.000e+02],\n",
       "       [ 9.880e+00,  3.500e-01,  1.000e+02],\n",
       "       [ 9.890e+00,  3.500e-01,  1.000e+02],\n",
       "       [ 9.960e+00,  3.300e-01,  6.600e+01],\n",
       "       [ 9.960e+00,  3.300e-01,  8.000e+00],\n",
       "       [ 9.960e+00,  3.300e-01,  2.600e+01],\n",
       "       [ 1.008e+01,  2.700e-01,  1.000e+02],\n",
       "       [ 1.011e+01,  2.600e-01,  1.000e+02],\n",
       "       [ 1.011e+01,  2.600e-01,  1.000e+02],\n",
       "       [ 1.023e+01,  2.100e-01,  1.000e+02],\n",
       "       [ 1.024e+01,  2.200e-01,  1.000e+02],\n",
       "       [ 1.030e+01,  1.900e-01,  1.000e+02],\n",
       "       [ 1.030e+01,  1.900e-01,  1.000e+02],\n",
       "       [ 1.031e+01,  2.000e-01,  7.700e+01],\n",
       "       [ 1.031e+01,  2.000e-01,  6.000e+00],\n",
       "       [ 1.031e+01,  2.000e-01,  1.800e+01],\n",
       "       [ 1.041e+01,  1.500e-01,  1.000e+02],\n",
       "       [ 1.047e+01,  1.300e-01,  1.000e+02],\n",
       "       [ 1.066e+01,  5.000e-02,  1.000e+02],\n",
       "       [ 1.069e+01,  4.000e-02,  1.000e+02],\n",
       "       [ 1.070e+01,  5.000e-02,  1.000e+02],\n",
       "       [ 1.072e+01,  3.000e-02,  1.000e+02],\n",
       "       [ 1.087e+01, -2.000e-02,  1.000e+02],\n",
       "       [ 1.093e+01, -5.000e-02,  1.000e+02],\n",
       "       [ 1.101e+01, -5.000e-02,  1.000e+02],\n",
       "       [ 1.102e+01, -7.000e-02,  1.000e+02],\n",
       "       [ 1.103e+01, -9.000e-02,  1.000e+02],\n",
       "       [ 1.105e+01, -1.000e-01,  1.000e+02],\n",
       "       [ 1.134e+01, -2.000e-01,  1.000e+02],\n",
       "       [ 1.142e+01, -2.600e-01,  0.000e+00],\n",
       "       [ 1.150e+01, -2.600e-01,  0.000e+00],\n",
       "       [ 1.159e+01, -2.400e-01,  1.000e+02],\n",
       "       [ 1.163e+01, -3.000e-01,  1.000e+02],\n",
       "       [ 1.171e+01, -3.300e-01,  1.000e+02],\n",
       "       [ 1.178e+01, -3.600e-01,  0.000e+00],\n",
       "       [ 1.187e+01, -3.100e-01,  1.000e+02],\n",
       "       [ 1.198e+01, -4.300e-01,  0.000e+00],\n",
       "       [ 1.206e+01, -4.500e-01,  1.000e+02],\n",
       "       [ 1.209e+01, -4.600e-01,  1.000e+02],\n",
       "       [ 1.212e+01, -4.100e-01,  1.000e+02],\n",
       "       [ 1.217e+01, -4.800e-01,  1.000e+02],\n",
       "       [ 1.220e+01, -4.900e-01,  1.000e+02],\n",
       "       [ 1.236e+01, -5.500e-01,  0.000e+00],\n",
       "       [ 1.243e+01, -5.600e-01,  1.000e+02],\n",
       "       [ 1.253e+01, -6.000e-01,  1.000e+02],\n",
       "       [ 1.263e+01, -6.200e-01,  1.000e+02],\n",
       "       [ 1.264e+01, -6.100e-01,  1.000e+02],\n",
       "       [ 1.268e+01, -6.100e-01,  1.000e+02],\n",
       "       [ 1.274e+01, -6.600e-01,  1.000e+02],\n",
       "       [ 1.283e+01, -7.000e-01,  0.000e+00],\n",
       "       [ 1.313e+01, -7.800e-01,  1.000e+02],\n",
       "       [ 1.320e+01, -8.000e-01,  1.000e+02],\n",
       "       [ 1.370e+01, -1.110e+00,  0.000e+00],\n",
       "       [ 1.397e+01, -9.400e-01,  1.000e+02]])"
      ]
     },
     "execution_count": 55,
     "metadata": {},
     "output_type": "execute_result"
    }
   ],
   "source": [
    "beehive_data = np.loadtxt('Beehive_data.csv', delimiter=',')\n",
    "beehive_data"
   ]
  },
  {
   "cell_type": "markdown",
   "metadata": {},
   "source": [
    "Yes, that's it. "
   ]
  },
  {
   "cell_type": "markdown",
   "metadata": {},
   "source": [
    "### Your assignment ...\n",
    "... should you choose to accept it, will be the following:\n",
    "1. Re-do Tutorial 1 assignment with numpy. (This should be fairly easy, but use only numpy functions to reproduce your results)\n",
    "2. Use the data from `Beehive_data.csv` to find the distance to the Beehive Cluster. Read on ahead to find out more about the concepts in astronomy you will need to solve this\n",
    "\n",
    "Data downloaded from [VizieR](https://cdsarc.unistra.fr/viz-bin/cat/V/19), from data used in [Piskunov 1980](https://ui.adsabs.harvard.edu/?#abs/1980BICDS..19...67P)"
   ]
  },
  {
   "cell_type": "code",
   "execution_count": 42,
   "metadata": {},
   "outputs": [],
   "source": [
    "moon_data = np.loadtxt('Moons_and_planets.csv',delimiter=',',dtype=str)"
   ]
  },
  {
   "cell_type": "code",
   "execution_count": 46,
   "metadata": {},
   "outputs": [
    {
     "name": "stdout",
     "output_type": "stream",
     "text": [
      "0 \n",
      "\n",
      "0 \n",
      "\n",
      "1 \n",
      "\n",
      "2 \n",
      "\n",
      "79 \n",
      "\n",
      "82 \n",
      "\n",
      "27 \n",
      "\n",
      "14 \n",
      "\n",
      "5 \n",
      "\n"
     ]
    }
   ],
   "source": [
    "Mercury=0\n",
    "Venus=0\n",
    "Earth=0\n",
    "Mars=0\n",
    "Jupiter=0\n",
    "Saturn=0\n",
    "Uranus=0\n",
    "Neptune=0\n",
    "Pluto=0\n",
    "\n",
    "for data in moon_data:\n",
    "\n",
    "    if data[1]=='Mercury':\n",
    "        Mercury=Mercury+1\n",
    "    elif data[1]=='Venus':\n",
    "        Venus=Venus+1\n",
    "    elif data[1]=='Earth':\n",
    "        Earth=Earth+1\n",
    "    elif data[1]=='Mars':\n",
    "        Mars=Mars+1 \n",
    "    elif data[1]=='Jupiter':\n",
    "        Jupiter=Jupiter+1\n",
    "    elif data[1]=='Saturn':\n",
    "        Saturn=Saturn+1\n",
    "    elif data[1]=='Uranus':\n",
    "        Uranus=Uranus+1\n",
    "    elif data[1]=='Neptune':\n",
    "        Neptune=Neptune+1\n",
    "    elif data[1]=='Pluto':\n",
    "        Pluto=Pluto+1\n",
    "print(Mercury ,'\\n')\n",
    "print(Venus, '\\n')\n",
    "print(Earth ,'\\n')\n",
    "print(Mars, '\\n')\n",
    "print(Jupiter, '\\n')\n",
    "print(Saturn ,'\\n')\n",
    "print(Uranus ,'\\n')\n",
    "print(Neptune, '\\n')\n",
    "print(Pluto ,'\\n')"
   ]
  },
  {
   "cell_type": "code",
   "execution_count": 54,
   "metadata": {},
   "outputs": [
    {
     "name": "stdout",
     "output_type": "stream",
     "text": [
      "S/2009 S 1      Saturn      0.15      \n",
      "\n",
      "Aegaeon      Saturn      0.33      \n",
      "\n",
      "S/2010 J 2      Jupiter      0.5      \n",
      "\n",
      "S/2011 J 2      Jupiter      0.5      \n",
      "\n",
      "Valetudo      Jupiter      0.5      \n",
      "\n",
      "S/2017 J 8      Jupiter      0.5      \n",
      "\n",
      "S/2011 J 1      Jupiter      0.5      \n",
      "\n",
      "S/2003 J 9      Jupiter      0.5      \n",
      "\n",
      "S/2003 J 12      Jupiter      0.5      \n",
      "\n",
      "Euporie      Jupiter      1.0      \n",
      "\n",
      "Orthosie      Jupiter      1.0      \n",
      "\n",
      "Sponde      Jupiter      1.0      \n",
      "\n",
      "Kale      Jupiter      1.0      \n",
      "\n",
      "Pasithee      Jupiter      1.0      \n",
      "\n",
      "Mneme      Jupiter      1.0      \n",
      "\n",
      "Thelxinoe      Jupiter      1.0      \n",
      "\n",
      "Kallichore      Jupiter      1.0      \n",
      "\n",
      "Cyllene      Jupiter      1.0      \n",
      "\n",
      "Kore      Jupiter      1.0      \n",
      "\n",
      "Herse      Jupiter      1.0      \n",
      "\n",
      "S/2010 J 1      Jupiter      1.0      \n",
      "\n",
      "S/2003 J 18      Jupiter      1.0      \n",
      "\n",
      "Philophrosyne      Jupiter      1.0      \n",
      "\n",
      "Eupheme      Jupiter      1.0      \n",
      "\n",
      "S/2003 J 19      Jupiter      1.0      \n",
      "\n",
      "S/2017 J 2      Jupiter      1.0      \n",
      "\n",
      "S/2017 J 3      Jupiter      1.0      \n",
      "\n",
      "Pandia      Jupiter      1.0      \n",
      "\n",
      "S/2017 J 5      Jupiter      1.0      \n",
      "\n",
      "S/2017 J 6      Jupiter      1.0      \n",
      "\n",
      "S/2017 J 7      Jupiter      1.0      \n",
      "\n",
      "S/2017 J 9      Jupiter      1.0      \n",
      "\n",
      "Ersa      Jupiter      1.0      \n",
      "\n",
      "S/2003 J 2      Jupiter      1.0      \n",
      "\n",
      "S/2003 J 4      Jupiter      1.0      \n",
      "\n",
      "S/2003 J 10      Jupiter      1.0      \n",
      "\n",
      "S/2003 J 16      Jupiter      1.0      \n",
      "\n",
      "S/2003 J 23      Jupiter      1.0      \n",
      "\n",
      "Anthe      Saturn      1.0      \n",
      "\n",
      "Polydeuces      Saturn      1.25      \n",
      "\n",
      "Aitne      Jupiter      1.5      \n",
      "\n",
      "Eurydome      Jupiter      1.5      \n",
      "\n",
      "Euanthe      Jupiter      1.5      \n",
      "\n",
      "Hegemone      Jupiter      1.5      \n",
      "\n",
      "Arche      Jupiter      1.5      \n",
      "\n",
      "Carpo      Jupiter      1.5      \n",
      "\n",
      "Erinome      Jupiter      1.6      \n",
      "\n",
      "Methone      Saturn      1.6      \n",
      "\n",
      "Chaldene      Jupiter      1.9      \n",
      "\n",
      "Isonoe      Jupiter      1.9      \n",
      "\n",
      "Autonoe      Jupiter      2.0      \n",
      "\n",
      "Thyone      Jupiter      2.0      \n",
      "\n",
      "Hermippe      Jupiter      2.0      \n",
      "\n",
      "Aoede      Jupiter      2.0      \n",
      "\n",
      "Helike      Jupiter      2.0      \n",
      "\n",
      "Eukelade      Jupiter      2.0      \n",
      "\n",
      "Dia      Jupiter      2.0      \n",
      "\n",
      "Eirene      Jupiter      2.0      \n",
      "\n",
      "S/2017 J 1      Jupiter      2.0      \n",
      "\n",
      "Pallene      Saturn      2.0      \n",
      "\n",
      "Fenrir      Saturn      2.0      \n",
      "\n",
      "S/2004 S 17      Saturn      2.0      \n",
      "\n",
      "Harpalyke      Jupiter      2.2      \n",
      "\n",
      "Taygete      Jupiter      2.5      \n",
      "\n",
      "Farbauti      Saturn      2.5      \n",
      "\n",
      "S/2004 S 12      Saturn      2.5      \n",
      "\n",
      "Kalyke      Jupiter      2.6      \n",
      "\n",
      "Iocaste      Jupiter      2.6      \n",
      "\n",
      "Megaclite      Jupiter      2.7      \n",
      "\n",
      "S/2016 J 1      Jupiter      3.0      \n",
      "\n",
      "Aegir      Saturn      3.0      \n",
      "\n",
      "Bebhionn      Saturn      3.0      \n",
      "\n",
      "Bergelmir      Saturn      3.0      \n",
      "\n",
      "Fornjot      Saturn      3.0      \n",
      "\n",
      "Hati      Saturn      3.0      \n",
      "\n",
      "Loge      Saturn      3.0      \n",
      "\n",
      "Skoll      Saturn      3.0      \n",
      "\n",
      "Surtur      Saturn      3.0      \n",
      "\n",
      "Jarnsaxa      Saturn      3.0      \n",
      "\n",
      "Greip      Saturn      3.0      \n",
      "\n",
      "S/2004 S 7      Saturn      3.0      \n",
      "\n",
      "S/2004 S 13      Saturn      3.0      \n",
      "\n",
      "S/2006 S 1      Saturn      3.0      \n",
      "\n",
      "S/2006 S 3      Saturn      3.0      \n",
      "\n",
      "S/2007 S 2      Saturn      3.0      \n",
      "\n",
      "S/2007 S 3      Saturn      3.0      \n",
      "\n",
      "S/2004 S 20      Saturn      3.0      \n",
      "\n",
      "S/2004 S 21      Saturn      3.0      \n",
      "\n",
      "S/2004 S 22      Saturn      3.0      \n",
      "\n",
      "S/2004 S 24      Saturn      3.0      \n",
      "\n",
      "S/2004 S 30      Saturn      3.0      \n",
      "\n",
      "S/2004 S 34      Saturn      3.0      \n",
      "\n",
      "S/2004 S 36      Saturn      3.0      \n",
      "\n",
      "S/2004 S 39      Saturn      3.0      \n",
      "\n",
      "Praxidike      Jupiter      3.4      \n",
      "\n",
      "Suttungr      Saturn      3.5      \n",
      "\n",
      "Mundilfari      Saturn      3.5      \n",
      "\n",
      "Thrymr      Saturn      3.5      \n",
      "\n",
      "Narvi      Saturn      3.5      \n",
      "\n",
      "Bestla      Saturn      3.5      \n",
      "\n",
      "Kari      Saturn      3.5      \n",
      "\n",
      "Tarqeq      Saturn      3.5      \n",
      "\n",
      "Daphnis      Saturn      3.8      \n",
      "\n",
      "Themisto      Jupiter      4.0      \n",
      "\n",
      "Skathi      Saturn      4.0      \n",
      "\n",
      "Hyrrokkin      Saturn      4.0      \n",
      "\n",
      "S/2004 S 23      Saturn      4.0      \n",
      "\n",
      "S/2004 S 25      Saturn      4.0      \n",
      "\n",
      "S/2004 S 26      Saturn      4.0      \n",
      "\n",
      "S/2004 S 28      Saturn      4.0      \n",
      "\n",
      "S/2004 S 29      Saturn      4.0      \n",
      "\n",
      "S/2004 S 31      Saturn      4.0      \n",
      "\n",
      "S/2004 S 32      Saturn      4.0      \n",
      "\n",
      "S/2004 S 33      Saturn      4.0      \n",
      "\n",
      "S/2004 S 37      Saturn      4.0      \n",
      "\n",
      "S/2004 S 38      Saturn      4.0      \n",
      "\n",
      "Callirrhoe      Jupiter      4.3      \n",
      "\n",
      "Erriapus      Saturn      5.0      \n",
      "\n",
      "Margaret      Uranus      5.5      \n",
      "\n",
      "Ijiraq      Saturn      6.0      \n",
      "\n",
      "S/2004 S 27      Saturn      6.0      \n",
      "\n",
      "S/2004 S 35      Saturn      6.0      \n",
      "\n",
      "Francisco      Uranus      6.0      \n",
      "\n",
      "Ferdinand      Uranus      6.0      \n",
      "\n",
      "Mab      Uranus      6.0      \n",
      "\n",
      "Deimos      Mars      6.2      \n",
      "\n",
      "Tarvos      Saturn      7.5      \n",
      "\n",
      "Kiviuq      Saturn      8.0      \n",
      "\n",
      "Adrastea      Jupiter      8.2      \n",
      "\n",
      "Ymir      Saturn      9.0      \n",
      "\n",
      "Trinculo      Uranus      9.0      \n",
      "\n",
      "Cupid      Uranus      9.0      \n",
      "\n",
      "Calypso      Saturn      9.5      \n",
      "\n",
      "Leda      Jupiter      10.0      \n",
      "\n",
      "Stephano      Uranus      10.0      \n",
      "\n",
      "Styx      Pluto      10.0      \n",
      "\n",
      "Paaliaq      Saturn      11.0      \n",
      "\n",
      "Phobos      Mars      11.1      \n",
      "\n",
      "Telesto      Saturn      12.0      \n",
      "\n",
      "Pan      Saturn      12.8      \n",
      "\n",
      "Ananke      Jupiter      14.0      \n",
      "\n",
      "Kerberos      Pluto      14.0      \n",
      "\n",
      "Perdita      Uranus      15.0      \n",
      "\n",
      "Atlas      Saturn      15.3      \n",
      "\n",
      "Helene      Saturn      16.0      \n",
      "\n",
      "Albiorix      Saturn      16.0      \n",
      "\n",
      "Hippocamp      Neptune      17.4      \n",
      "\n",
      "Lysithea      Jupiter      18.0      \n",
      "\n",
      "Sinope      Jupiter      19.0      \n",
      "\n",
      "Siarnaq      Saturn      20.0      \n",
      "\n",
      "Psamathe      Neptune      20.0      \n",
      "\n",
      "Cordelia      Uranus      20.1      \n",
      "\n",
      "Caliban      Uranus      21.0      \n",
      "\n",
      "Laomedeia      Neptune      21.0      \n",
      "\n",
      "Ophelia      Uranus      21.4      \n",
      "\n",
      "Metis      Jupiter      21.5      \n",
      "\n",
      "Sao      Neptune      22.0      \n",
      "\n",
      "Carme      Jupiter      23.0      \n",
      "\n",
      "Nix      Pluto      23.0      \n",
      "\n",
      "Setebos      Uranus      24.0      \n",
      "\n",
      "Prospero      Uranus      25.0      \n",
      "\n",
      "Bianca      Uranus      25.7      \n",
      "\n",
      "Pasiphae      Jupiter      30.0      \n",
      "\n",
      "Neso      Neptune      30.0      \n",
      "\n",
      "Hydra      Pluto      30.5      \n",
      "\n",
      "Halimede      Neptune      31.0      \n",
      "\n",
      "Desdemona      Uranus      32.0      \n",
      "\n",
      "Naiad      Neptune      33.0      \n",
      "\n",
      "Rosalind      Uranus      36.0      \n",
      "\n",
      "Cressida      Uranus      39.8      \n",
      "\n",
      "Belinda      Uranus      40.3      \n",
      "\n",
      "Pandora      Saturn      40.6      \n",
      "\n",
      "Thalassa      Neptune      41.0      \n",
      "\n",
      "Elara      Jupiter      43.0      \n",
      "\n",
      "Prometheus      Saturn      46.8      \n",
      "\n",
      "Juliet      Uranus      46.8      \n",
      "\n",
      "Thebe      Jupiter      49.3      \n",
      "\n",
      "Epimetheus      Saturn      58.3      \n",
      "\n",
      "Himalia      Jupiter      67.0      \n",
      "\n",
      "Portia      Uranus      67.6      \n",
      "\n",
      "Despina      Neptune      75.0      \n",
      "\n",
      "Sycorax      Uranus      78.5      \n",
      "\n",
      "Puck      Uranus      81.0      \n",
      "\n",
      "Amalthea      Jupiter      83.5      \n",
      "\n",
      "Galatea      Neptune      88.0      \n",
      "\n",
      "Janus      Saturn      90.4      \n",
      "\n",
      "Larissa      Neptune      97.0      \n",
      "\n",
      "Phoebe      Saturn      106.6      \n",
      "\n",
      "Hyperion      Saturn      138.6      \n",
      "\n",
      "Nereid      Neptune      178.5      \n",
      "\n",
      "Mimas      Saturn      198.2      \n",
      "\n",
      "Proteus      Neptune      210.0      \n",
      "\n",
      "Miranda      Uranus      235.8      \n",
      "\n",
      "Enceladus      Saturn      252.3      \n",
      "\n",
      "Tethys      Saturn      536.3      \n",
      "\n",
      "Dione      Saturn      562.5      \n",
      "\n",
      "Ariel      Uranus      578.9      \n",
      "\n",
      "Umbriel      Uranus      584.7      \n",
      "\n",
      "Charon      Pluto      606.0      \n",
      "\n",
      "Iapetus      Saturn      734.5      \n",
      "\n",
      "Oberon      Uranus      761.4      \n",
      "\n",
      "Rhea      Saturn      764.5      \n",
      "\n",
      "Titania      Uranus      788.9      \n",
      "\n",
      "Triton      Neptune      1353.4      \n",
      "\n",
      "Europa      Jupiter      1560.7      \n",
      "\n",
      "Moon      Earth      1737.1      \n",
      "\n",
      "Io      Jupiter      1818.1      \n",
      "\n",
      "Callisto      Jupiter      2408.4      \n",
      "\n",
      "Titan      Saturn      2575.5      \n",
      "\n",
      "Ganymede      Jupiter      2634.1      \n",
      "\n"
     ]
    }
   ],
   "source": [
    "sorted_array = sorted(moon_data, key=lambda x: float((x[2])))\n",
    "for lists in sorted_array:\n",
    "    print(lists[0],'    ',lists[1],'    ',lists[2],'    ','\\n')"
   ]
  },
  {
   "cell_type": "markdown",
   "metadata": {},
   "source": [
    "# Magnitudes in Astronomy"
   ]
  },
  {
   "cell_type": "markdown",
   "metadata": {},
   "source": [
    "Magnitudes are a way to describe how bright an object (in our case, a star) is. It is similar to the decibel system for sound in that magnitudes are logarithmic. They can be calculated according to the formula\n",
    "$$\\rm m = -2.5 \\log\\left(\\frac{F}{F_0}\\right)$$\n",
    "where F is the flux from the star (measured in W m$^{-2}$), and F$_0$ is a reference flux.\n",
    "\n",
    "To read up more about magnitudes, hit up the [Wikipedia article on it](https://en.wikipedia.org/wiki/Magnitude_(astronomy)#History)"
   ]
  },
  {
   "cell_type": "markdown",
   "metadata": {},
   "source": [
    "Now, we can calculate the flux of a star at some distance d away as \n",
    "$$ F = \\frac{L}{4\\pi d^2} $$\n",
    "where L is the Luminosity of the star (measured in W). \n",
    "\n",
    "There are a lot of details we have skimmed over (for example, the use of filters) which we will visit again in more detail in `Tutorial 8: Image Reduction`."
   ]
  },
  {
   "cell_type": "markdown",
   "metadata": {},
   "source": [
    "As a final note on the data you have been given in `Beehive_data.csv`, the columns are respectively the apparent magnitude of the stars as seen from Earth, the logarithm of the Luminosity(in units of Luminosity of the Sun) of the stars (i.e. $\\log(L/L_\\odot)$, where $L_\\odot$ is the luminosity of the sun), and the probability that the star belongs to the Beehive Cluster.\n",
    "\n",
    "You must find the distance to the cluster (you are given that the absolute magnitude of the Sun is +4.83). You can do this in two ways:\n",
    "1. Exclude all the stars with low probability of belonging to the cluster, and then calculate distance for each star, and find the mean.\n",
    "2. Find the distance for all stars (including the low probability ones) and find the weighted average of the distances, where the weights are the probability."
   ]
  },
  {
   "cell_type": "markdown",
   "metadata": {},
   "source": [
    "# Method 1"
   ]
  },
  {
   "cell_type": "code",
   "execution_count": 60,
   "metadata": {},
   "outputs": [
    {
     "data": {
      "text/plain": [
       "(array([  4,   5,   6,  15,  16,  17,  18,  19,  20,  21,  22,  23,  37,\n",
       "         38,  39,  53,  54,  55,  63,  64,  65,  79,  80,  84,  86,  92,\n",
       "         99, 102], dtype=int64),)"
      ]
     },
     "execution_count": 60,
     "metadata": {},
     "output_type": "execute_result"
    }
   ],
   "source": [
    "index=np.where(beehive_data[:,2]<90)\n",
    "index"
   ]
  },
  {
   "cell_type": "code",
   "execution_count": 61,
   "metadata": {},
   "outputs": [
    {
     "name": "stdout",
     "output_type": "stream",
     "text": [
      "[[ 6.300e+00  1.770e+00  1.000e+02]\n",
      " [ 6.390e+00  1.850e+00  1.000e+02]\n",
      " [ 6.440e+00  1.850e+00  1.000e+02]\n",
      " [ 6.590e+00  1.760e+00  1.000e+02]\n",
      " [ 6.670e+00  1.620e+00  1.000e+02]\n",
      " [ 6.780e+00  1.570e+00  1.000e+02]\n",
      " [ 6.780e+00  1.580e+00  1.000e+02]\n",
      " [ 6.850e+00  1.550e+00  1.000e+02]\n",
      " [ 6.900e+00  1.640e+00  1.000e+02]\n",
      " [ 7.320e+00  1.360e+00  1.000e+02]\n",
      " [ 7.450e+00  1.310e+00  1.000e+02]\n",
      " [ 7.540e+00  1.270e+00  1.000e+02]\n",
      " [ 7.730e+00  1.200e+00  1.000e+02]\n",
      " [ 7.960e+00  1.110e+00  1.000e+02]\n",
      " [ 8.020e+00  1.080e+00  1.000e+02]\n",
      " [ 8.180e+00  1.010e+00  1.000e+02]\n",
      " [ 8.310e+00  9.600e-01  1.000e+02]\n",
      " [ 8.330e+00  9.600e-01  1.000e+02]\n",
      " [ 8.500e+00  8.900e-01  1.000e+02]\n",
      " [ 8.710e+00  8.000e-01  1.000e+02]\n",
      " [ 8.810e+00  7.600e-01  1.000e+02]\n",
      " [ 8.890e+00  7.300e-01  1.000e+02]\n",
      " [ 9.000e+00  6.900e-01  1.000e+02]\n",
      " [ 9.040e+00  6.700e-01  1.000e+02]\n",
      " [ 9.230e+00  6.000e-01  1.000e+02]\n",
      " [ 9.370e+00  5.500e-01  1.000e+02]\n",
      " [ 9.390e+00  5.400e-01  1.000e+02]\n",
      " [ 9.420e+00  5.300e-01  1.000e+02]\n",
      " [ 9.550e+00  4.800e-01  1.000e+02]\n",
      " [ 9.590e+00  4.600e-01  1.000e+02]\n",
      " [ 9.670e+00  4.300e-01  1.000e+02]\n",
      " [ 9.680e+00  4.200e-01  1.000e+02]\n",
      " [ 9.770e+00  3.900e-01  1.000e+02]\n",
      " [ 9.790e+00  3.900e-01  1.000e+02]\n",
      " [ 9.830e+00  3.700e-01  1.000e+02]\n",
      " [ 9.850e+00  3.600e-01  1.000e+02]\n",
      " [ 9.880e+00  3.500e-01  1.000e+02]\n",
      " [ 9.890e+00  3.500e-01  1.000e+02]\n",
      " [ 1.008e+01  2.700e-01  1.000e+02]\n",
      " [ 1.011e+01  2.600e-01  1.000e+02]\n",
      " [ 1.011e+01  2.600e-01  1.000e+02]\n",
      " [ 1.023e+01  2.100e-01  1.000e+02]\n",
      " [ 1.024e+01  2.200e-01  1.000e+02]\n",
      " [ 1.030e+01  1.900e-01  1.000e+02]\n",
      " [ 1.030e+01  1.900e-01  1.000e+02]\n",
      " [ 1.041e+01  1.500e-01  1.000e+02]\n",
      " [ 1.047e+01  1.300e-01  1.000e+02]\n",
      " [ 1.066e+01  5.000e-02  1.000e+02]\n",
      " [ 1.069e+01  4.000e-02  1.000e+02]\n",
      " [ 1.070e+01  5.000e-02  1.000e+02]\n",
      " [ 1.072e+01  3.000e-02  1.000e+02]\n",
      " [ 1.087e+01 -2.000e-02  1.000e+02]\n",
      " [ 1.093e+01 -5.000e-02  1.000e+02]\n",
      " [ 1.101e+01 -5.000e-02  1.000e+02]\n",
      " [ 1.102e+01 -7.000e-02  1.000e+02]\n",
      " [ 1.103e+01 -9.000e-02  1.000e+02]\n",
      " [ 1.105e+01 -1.000e-01  1.000e+02]\n",
      " [ 1.134e+01 -2.000e-01  1.000e+02]\n",
      " [ 1.159e+01 -2.400e-01  1.000e+02]\n",
      " [ 1.163e+01 -3.000e-01  1.000e+02]\n",
      " [ 1.171e+01 -3.300e-01  1.000e+02]\n",
      " [ 1.187e+01 -3.100e-01  1.000e+02]\n",
      " [ 1.206e+01 -4.500e-01  1.000e+02]\n",
      " [ 1.209e+01 -4.600e-01  1.000e+02]\n",
      " [ 1.212e+01 -4.100e-01  1.000e+02]\n",
      " [ 1.217e+01 -4.800e-01  1.000e+02]\n",
      " [ 1.220e+01 -4.900e-01  1.000e+02]\n",
      " [ 1.243e+01 -5.600e-01  1.000e+02]\n",
      " [ 1.253e+01 -6.000e-01  1.000e+02]\n",
      " [ 1.263e+01 -6.200e-01  1.000e+02]\n",
      " [ 1.264e+01 -6.100e-01  1.000e+02]\n",
      " [ 1.268e+01 -6.100e-01  1.000e+02]\n",
      " [ 1.274e+01 -6.600e-01  1.000e+02]\n",
      " [ 1.313e+01 -7.800e-01  1.000e+02]\n",
      " [ 1.320e+01 -8.000e-01  1.000e+02]\n",
      " [ 1.397e+01 -9.400e-01  1.000e+02]]\n"
     ]
    }
   ],
   "source": [
    "new_array=np.delete(beehive_data,index,axis=0)\n",
    "print(new_array)"
   ]
  },
  {
   "cell_type": "code",
   "execution_count": 62,
   "metadata": {},
   "outputs": [
    {
     "data": {
      "text/plain": [
       "array([151.00801542, 172.5837892 , 176.60378207, 170.6082389 ,\n",
       "       150.66070662, 149.62356561, 151.35612484, 151.00801542,\n",
       "       171.39573075, 150.66070662, 151.00801542, 150.31419661,\n",
       "       151.35612484, 151.70503675, 150.66070662, 149.62356561,\n",
       "       149.96848355, 151.35612484, 151.00801542, 149.96848355,\n",
       "       149.96848355, 150.31419661, 151.00801542, 150.31419661,\n",
       "       151.35612484, 152.40527538, 152.05475297, 152.40527538,\n",
       "       152.75660582, 152.05475297, 152.40527538, 151.35612484,\n",
       "       152.40527538, 153.81546403, 153.10874617, 152.75660582,\n",
       "       153.10874617, 153.81546403, 153.10874617, 153.46169828,\n",
       "       153.46169828, 153.10874617, 155.59656316, 154.52544395,\n",
       "       154.52544395, 155.238701  , 155.95525028, 155.238701  ,\n",
       "       155.59656316, 158.12480393, 155.95525028, 157.76112697,\n",
       "       156.67510701, 162.55487558, 159.58791472, 156.67510701,\n",
       "       156.31476426, 159.22087271, 170.6082389 , 162.18100974,\n",
       "       162.55487558, 179.0605854 , 166.34126504, 166.72472126,\n",
       "       179.0605854 , 169.04409316, 169.43378004, 173.78008287,\n",
       "       173.78008287, 177.827941  , 180.7174126 , 184.07720015,\n",
       "       178.64875749, 186.20871367, 187.93168168, 228.0342072 ])"
      ]
     },
     "execution_count": 62,
     "metadata": {},
     "output_type": "execute_result"
    }
   ],
   "source": [
    "logd=(new_array[:,0]+2.5*new_array[:,1]+0.17)/5\n",
    "distance=10**logd\n",
    "distance"
   ]
  },
  {
   "cell_type": "code",
   "execution_count": 64,
   "metadata": {},
   "outputs": [
    {
     "data": {
      "text/plain": [
       "159.9814397624894"
      ]
     },
     "execution_count": 64,
     "metadata": {},
     "output_type": "execute_result"
    }
   ],
   "source": [
    "summ=0\n",
    "for i in distance:\n",
    "    summ=summ+i\n",
    "average=summ/len(distance)\n",
    "average"
   ]
  },
  {
   "cell_type": "markdown",
   "metadata": {},
   "source": [
    "# Method 2"
   ]
  },
  {
   "cell_type": "code",
   "execution_count": 68,
   "metadata": {},
   "outputs": [
    {
     "data": {
      "text/plain": [
       "array([151.00801542, 172.5837892 , 176.60378207, 170.6082389 ,\n",
       "       164.43717232, 164.43717232, 164.43717232, 150.66070662,\n",
       "       149.62356561, 151.35612484, 151.00801542, 171.39573075,\n",
       "       150.66070662, 151.00801542, 150.31419661, 152.05475297,\n",
       "       152.05475297, 152.05475297, 150.66070662, 150.66070662,\n",
       "       150.66070662, 151.00801542, 151.00801542, 151.00801542,\n",
       "       151.35612484, 151.70503675, 150.66070662, 149.62356561,\n",
       "       149.96848355, 151.35612484, 151.00801542, 149.96848355,\n",
       "       149.96848355, 150.31419661, 151.00801542, 150.31419661,\n",
       "       151.35612484, 153.46169828, 153.46169828, 153.46169828,\n",
       "       152.40527538, 152.05475297, 152.40527538, 152.75660582,\n",
       "       152.05475297, 152.40527538, 151.35612484, 152.40527538,\n",
       "       153.81546403, 153.10874617, 152.75660582, 153.10874617,\n",
       "       153.81546403, 155.238701  , 155.238701  , 155.238701  ,\n",
       "       153.10874617, 153.46169828, 153.46169828, 153.10874617,\n",
       "       155.59656316, 154.52544395, 154.52544395, 157.03628043,\n",
       "       157.03628043, 157.03628043, 155.238701  , 155.95525028,\n",
       "       155.238701  , 155.59656316, 158.12480393, 155.95525028,\n",
       "       157.76112697, 156.67510701, 162.55487558, 159.58791472,\n",
       "       156.67510701, 156.31476426, 159.22087271, 154.17004529,\n",
       "       159.95580286, 170.6082389 , 162.18100974, 162.55487558,\n",
       "       162.18100974, 179.0605854 , 164.05897732, 166.34126504,\n",
       "       166.72472126, 179.0605854 , 169.04409316, 169.43378004,\n",
       "       170.21585084, 173.78008287, 173.78008287, 177.827941  ,\n",
       "       180.7174126 , 184.07720015, 178.64875749, 177.827941  ,\n",
       "       186.20871367, 187.93168168, 165.57699635, 228.0342072 ])"
      ]
     },
     "execution_count": 68,
     "metadata": {},
     "output_type": "execute_result"
    }
   ],
   "source": [
    "logd=(beehive_data[:,0]+2.5*beehive_data[:,1]+0.17)/5\n",
    "distance_new=10**logd\n",
    "distance_new"
   ]
  },
  {
   "cell_type": "code",
   "execution_count": 70,
   "metadata": {},
   "outputs": [
    {
     "data": {
      "text/plain": [
       "159.5464083490186"
      ]
     },
     "execution_count": 70,
     "metadata": {},
     "output_type": "execute_result"
    }
   ],
   "source": [
    "summ_dist=0\n",
    "summ_weights=0\n",
    "for i in range(len(distance_new)):\n",
    "    summ_dist=summ_dist+distance_new[i]*beehive_data[:,2][i]\n",
    "    summ_weights=summ_weights+beehive_data[:,2][i]\n",
    "average=summ_dist/summ_weights\n",
    "average"
   ]
  },
  {
   "cell_type": "markdown",
   "metadata": {},
   "source": [
    "Good Luck!"
   ]
  }
 ],
 "metadata": {
  "kernelspec": {
   "display_name": "Python 3 (ipykernel)",
   "language": "python",
   "name": "python3"
  },
  "language_info": {
   "codemirror_mode": {
    "name": "ipython",
    "version": 3
   },
   "file_extension": ".py",
   "mimetype": "text/x-python",
   "name": "python",
   "nbconvert_exporter": "python",
   "pygments_lexer": "ipython3",
   "version": "3.10.6"
  }
 },
 "nbformat": 4,
 "nbformat_minor": 4
}
